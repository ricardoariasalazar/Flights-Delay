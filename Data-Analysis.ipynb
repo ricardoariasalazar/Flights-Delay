{
 "cells": [
  {
   "cell_type": "markdown",
   "metadata": {},
   "source": [
    "# Flights Delay Insights"
   ]
  },
  {
   "cell_type": "markdown",
   "metadata": {},
   "source": [
    "## Table of contents<a class=\"anchor\" id=\"table\"></a>\n",
    "\n",
    "* [1. Data Loading, Cleaning, Labelling, and Exploration](#1)                                       \n",
    " * [1.1. Data loading](#1.1)                                              \n",
    "    * [1.1.1.Create SparkSession and SparkContext](#1.1.1)                                              \n",
    "    * [1.1.2 Import CSV file to a Spark SQL table](#1.1.2)                                              \n",
    "    * [1.1.3 Obtain the list of columns from flightsRawDf](#1.1.3)  \n",
    " * [1.2 Data cleaning](#1.2)   \n",
    "    * [1.2.1 Check for missing values](#1.2.1)\n",
    "    * [1.2.2 Remove columns and rows](#1.2.2)\n",
    " * [1.3 Data Labelling](#1.3) \n",
    "    * [1.3.1 Generate Binary labels](#1.3.1)\n",
    "    * [1.3.2 Generate Multiclass labels](#1.3.2)\n",
    "    * [1.3.3 Generate Automatic Multiclass labels](#1.3.3)\n",
    " * [1.4 Data Exploration / Exploratory Analysis](#1.4)\n",
    "    * [1.4.1 Basic statistics](#1.4.1)\n",
    "    * [1.4.2 Histograms for fligths delay](#1.4.2)\n",
    "* [2. Feature extraction and ML Training](#2)\n",
    " * [2.1 Feature selection](#2.1)\n",
    " * [2.2 Preparing Spark ML Transformers/ Estimators](#2.2)\n",
    "    * [2.2.1 Transform the dataset](#2.2.1)\n",
    "    * [2.2.2 Model Estimators](#2.2.2)\n",
    " * [2.3 Split dataset](#2.3)\n",
    " * [2.4 Training and evaluating models](#2.4)\n",
    "    * [2.4.1 Binary Classification](#2.4.1)\n",
    "    * [2.4.2 Multiclass Classification](#2.4.2)\n",
    "    \n",
    "    \n",
    "    \n",
    "    "
   ]
  },
  {
   "cell_type": "markdown",
   "metadata": {},
   "source": [
    "## 1. Data Loading, Cleaning, Labelling, and Exploration <a class=\"anchor\" id=\"1\"></a>"
   ]
  },
  {
   "cell_type": "markdown",
   "metadata": {},
   "source": [
    "### 1.1 Data loading <a class=\"anchor\" id=\"1.1\"></a>\n",
    "[Back to top](#table)"
   ]
  },
  {
   "cell_type": "markdown",
   "metadata": {},
   "source": [
    "#### 1.1.1 Create SparkSession and SparkContext<a class=\"anchor\" id=\"1.1.1\"></a>"
   ]
  },
  {
   "cell_type": "code",
   "execution_count": 1,
   "metadata": {},
   "outputs": [],
   "source": [
    "# Import SparkConf class into program\n",
    "from pyspark import SparkConf\n",
    "from pyspark.sql.functions import *\n",
    "import pyspark.sql.functions as f\n",
    "from pyspark.sql.types import StructType,StructField, StringType, IntegerType, FloatType\n",
    "\n",
    "# local[*]: run Spark in local mode with as many working processors as logical cores on your machine\n",
    "# If we want Spark to run locally with 'k' worker threads, we can specify as \"local[k]\".\n",
    "master = \"local[*]\"\n",
    "# The `appName` field is a name to be shown on the Spark cluster UI page\n",
    "app_name = \"Assignment 2 - Ricardo Arias (ID: 30550971)\"\n",
    "# Setup configuration parameters for Spark\n",
    "spark_conf = SparkConf().setMaster(master).setAppName(app_name)\n",
    "\n",
    "# Import SparkContext and SparkSession classes\n",
    "from pyspark import SparkContext # Spark\n",
    "from pyspark.sql import SparkSession # Spark SQL\n",
    "\n",
    "# Method 1: Using SparkSession\n",
    "spark = SparkSession.builder.config(conf=spark_conf).getOrCreate()\n",
    "sc = spark.sparkContext\n",
    "sc.setLogLevel('ERROR')"
   ]
  },
  {
   "cell_type": "markdown",
   "metadata": {},
   "source": [
    "#### 1.1.2 Import CSV file to a Spark SQL table <a class=\"anchor\" id=\"1.1.2\"></a>                                              \n",
    "To upload the data as dataframe, we will use a function that allow the user to input the path of the CSV files, and convert them into a data frame with header and a schema infered"
   ]
  },
  {
   "cell_type": "code",
   "execution_count": 2,
   "metadata": {},
   "outputs": [],
   "source": [
    "def csv_to_DF(path): # Path of the file, list with the name of the columns that are int and float\n",
    "     # Read the CSV file and convert it into a data frame with header, besides it has to infer the Schema\n",
    "    df = spark.read.format(\"csv\").options(header='true',inferSchema='true').load(path)\n",
    "    return(df)"
   ]
  },
  {
   "cell_type": "markdown",
   "metadata": {},
   "source": [
    "Now that the function is created we proceed to import the data"
   ]
  },
  {
   "cell_type": "code",
   "execution_count": 3,
   "metadata": {},
   "outputs": [
    {
     "name": "stdout",
     "output_type": "stream",
     "text": [
      "The dataframe flightsRawDf has 582184 rows and 31 columns\n"
     ]
    }
   ],
   "source": [
    "flightsRawDf = csv_to_DF('./flight-delays/flight*.csv')\n",
    "\n",
    "# Print number of partitions, rows and columns\n",
    "print(\"The dataframe flightsRawDf has\", flightsRawDf.count(),'rows and', len(flightsRawDf.columns), \"columns\")"
   ]
  },
  {
   "cell_type": "markdown",
   "metadata": {},
   "source": [
    "#### 1.1.3 Obtain the list of columns from flightsRawDf <a class=\"anchor\" id=\"1.1.3\"></a>                                   \n",
    "With the function columns we can get a list with the name of each column of the dataset"
   ]
  },
  {
   "cell_type": "code",
   "execution_count": 4,
   "metadata": {},
   "outputs": [],
   "source": [
    "allColumnFlights = flightsRawDf.columns"
   ]
  },
  {
   "cell_type": "markdown",
   "metadata": {},
   "source": [
    "### 1.2 Data cleaning <a class=\"anchor\" id=\"1.2\"></a>\n",
    "[Back to top](#table)"
   ]
  },
  {
   "cell_type": "markdown",
   "metadata": {},
   "source": [
    "#### 1.2.1 Check for missing values <a class=\"anchor\" id=\"1.2.1\"></a>                                                       \n",
    "With the following function we will calculate the number of missing values per column in this dataframe"
   ]
  },
  {
   "cell_type": "code",
   "execution_count": 5,
   "metadata": {},
   "outputs": [
    {
     "data": {
      "text/plain": [
       "[Row(YEAR=0, MONTH=0, DAY=0, DAY_OF_WEEK=0, AIRLINE=0, FLIGHT_NUMBER=0, TAIL_NUMBER=1462, ORIGIN_AIRPORT=0, DESTINATION_AIRPORT=0, SCHEDULED_DEPARTURE=0, DEPARTURE_TIME=8633, DEPARTURE_DELAY=8633, TAXI_OUT=8891, WHEELS_OFF=8891, SCHEDULED_TIME=1, ELAPSED_TIME=10455, AIR_TIME=10455, DISTANCE=0, WHEELS_ON=9257, TAXI_IN=9257, SCHEDULED_ARRIVAL=0, ARRIVAL_TIME=9257, ARRIVAL_DELAY=10455, DIVERTED=0, CANCELLED=0, CANCELLATION_REASON=573213, AIR_SYSTEM_DELAY=475831, SECURITY_DELAY=475831, AIRLINE_DELAY=475831, LATE_AIRCRAFT_DELAY=475831, WEATHER_DELAY=475831)]"
      ]
     },
     "execution_count": 5,
     "metadata": {},
     "output_type": "execute_result"
    }
   ],
   "source": [
    "flightsRawDf.select([count(when(isnan(x) | col(x).isNull(), x)).alias(x) for x in flightsRawDf.columns]).collect()"
   ]
  },
  {
   "cell_type": "markdown",
   "metadata": {},
   "source": [
    "Now if we use the number of rows of the dataframe we can calculate the proportion of missing values in each column. As it can be seen"
   ]
  },
  {
   "cell_type": "code",
   "execution_count": 6,
   "metadata": {},
   "outputs": [
    {
     "data": {
      "text/plain": [
       "[Row(YEAR=0.0, MONTH=0.0, DAY=0.0, DAY_OF_WEEK=0.0, AIRLINE=0.0, FLIGHT_NUMBER=0.0, TAIL_NUMBER=0.003, ORIGIN_AIRPORT=0.0, DESTINATION_AIRPORT=0.0, SCHEDULED_DEPARTURE=0.0, DEPARTURE_TIME=0.015, DEPARTURE_DELAY=0.015, TAXI_OUT=0.015, WHEELS_OFF=0.015, SCHEDULED_TIME=0.0, ELAPSED_TIME=0.018, AIR_TIME=0.018, DISTANCE=0.0, WHEELS_ON=0.016, TAXI_IN=0.016, SCHEDULED_ARRIVAL=0.0, ARRIVAL_TIME=0.016, ARRIVAL_DELAY=0.018, DIVERTED=0.0, CANCELLED=0.0, CANCELLATION_REASON=0.985, AIR_SYSTEM_DELAY=0.817, SECURITY_DELAY=0.817, AIRLINE_DELAY=0.817, LATE_AIRCRAFT_DELAY=0.817, WEATHER_DELAY=0.817)]"
      ]
     },
     "execution_count": 6,
     "metadata": {},
     "output_type": "execute_result"
    }
   ],
   "source": [
    "numOfRows = flightsRawDf.count()\n",
    "\n",
    "flightsRawDf.select([round(count(when(isnan(x) | col(x).isNull(), x))/numOfRows, 3).alias(x)\\\n",
    "                     for x in flightsRawDf.columns]).collect()"
   ]
  },
  {
   "cell_type": "markdown",
   "metadata": {},
   "source": [
    "Looking at the percentages we have 26 under 2% of missing values and some other over 80%, so if we set any threshold between 2% and 80% we will get the same set of columns, even though we will select 50% as threshold considering that is a columns has more missing values than values it is not worth it to analyse"
   ]
  },
  {
   "cell_type": "markdown",
   "metadata": {},
   "source": [
    "#### 1.2.2 Remove columns and rows in the flightsRawDf <a class=\"anchor\" id=\"1.2.2\"></a>   "
   ]
  },
  {
   "cell_type": "markdown",
   "metadata": {},
   "source": [
    "#### Get columns over the threshold of missing values                 \n",
    "The following function automatically obtains the column names for all columns in flightsRawDf whose number of missing values is greater certain percent. To do that, we first calculate the percetage of missing values in each column of the dataset given, then we convert that dataframe into a dictionary, and we only get the keys that are above the threshold value"
   ]
  },
  {
   "cell_type": "code",
   "execution_count": 5,
   "metadata": {},
   "outputs": [],
   "source": [
    "def find_removed_columns(threshold, df):\n",
    "    \n",
    "    # Dictionary that stores the percentage of missing values in eac\n",
    "    dict_perc = flightsRawDf.select([(count(when(isnan(x) | col(x).isNull(), x))/numOfRows).alias(x)\\\n",
    "                     for x in flightsRawDf.columns]).collect()[0].asDict()\n",
    "    # Getting the keys of the dictionary which the values meet the criteria of selection\n",
    "    removedColumns = [x for x in dict_perc if dict_perc[x] > threshold]\n",
    "    \n",
    "    return removedColumns"
   ]
  },
  {
   "cell_type": "markdown",
   "metadata": {},
   "source": [
    "As we already mentioned above, the threshold selected in this case is 0.5 (50%)"
   ]
  },
  {
   "cell_type": "code",
   "execution_count": 6,
   "metadata": {
    "scrolled": true
   },
   "outputs": [
    {
     "data": {
      "text/plain": [
       "['CANCELLATION_REASON',\n",
       " 'AIR_SYSTEM_DELAY',\n",
       " 'SECURITY_DELAY',\n",
       " 'AIRLINE_DELAY',\n",
       " 'LATE_AIRCRAFT_DELAY',\n",
       " 'WEATHER_DELAY']"
      ]
     },
     "execution_count": 6,
     "metadata": {},
     "output_type": "execute_result"
    }
   ],
   "source": [
    "threshold = 0.5 # Threshold value which defines percentage\n",
    "\n",
    "find_removed_columns(threshold, flightsRawDf)"
   ]
  },
  {
   "cell_type": "markdown",
   "metadata": {},
   "source": [
    "And we get those columns that have more than 50% of their values as missing values"
   ]
  },
  {
   "cell_type": "markdown",
   "metadata": {},
   "source": [
    "#### Remove columns over the threshold of missing values   \n",
    "Once a list variable removedColumns is obtained, we created another function `eliminate_columns` so that flightsRawDf is updated by removing columns listed in removedColumns variable. "
   ]
  },
  {
   "cell_type": "code",
   "execution_count": 7,
   "metadata": {},
   "outputs": [],
   "source": [
    "def eliminate_columns(columns, df):\n",
    "    # Drop the columns inputed\n",
    "    df = df.drop(*columns)\n",
    "    return df"
   ]
  },
  {
   "cell_type": "markdown",
   "metadata": {},
   "source": [
    "Using both functions, the one that identifies the columns with a percentage of missing values above the threshold and the one that removes those columns from the original dataframe we will create a new dataframe called `flightsDf` that only stores the columns that we are interested in"
   ]
  },
  {
   "cell_type": "code",
   "execution_count": 8,
   "metadata": {},
   "outputs": [],
   "source": [
    "# Get the columns that have a percentage of missing values above of the threshold\n",
    "removedColumns = find_removed_columns(threshold, flightsRawDf)\n",
    "\n",
    "# Remove those columns from the dataframe\n",
    "flightsDf = eliminate_columns(removedColumns, flightsRawDf)"
   ]
  },
  {
   "cell_type": "code",
   "execution_count": 11,
   "metadata": {},
   "outputs": [
    {
     "name": "stdout",
     "output_type": "stream",
     "text": [
      "The dataframe flightsDf has 582184 rows and 25 columns\n"
     ]
    }
   ],
   "source": [
    "# Print number of partitions, rows and columns\n",
    "print(\"The dataframe flightsDf has\", flightsDf.count(),'rows and', len(flightsDf.columns), \"columns\")"
   ]
  },
  {
   "cell_type": "markdown",
   "metadata": {},
   "source": [
    "In this case we can observe that `flightsDf` and `flightsRawDf` have the same number of rows, but `flightsDf` has 6 columns less than `flightsRawDf`, that are the ones that we showed above"
   ]
  },
  {
   "cell_type": "markdown",
   "metadata": {},
   "source": [
    "### 1.3 Data Labelling <a class=\"anchor\" id=\"1.3\"></a>\n",
    "[Back to top](#table)"
   ]
  },
  {
   "cell_type": "markdown",
   "metadata": {},
   "source": [
    "#### 1.3.1 Generate Binary labels <a class=\"anchor\" id=\"1.3.1\"></a>\n",
    "Using flightsDf we create new binary labels are `binaryArrDelay` and `binaryDeptDelay`, which are generated from `ARRIVAL_DELAY` and `DEPARTURE_DELAY` respectively. The data is labeled as follows: \n",
    "   - **Delay value greater than 0 (Late):** 1\n",
    "   - **Delay value lower than 0 (Not late):** 0"
   ]
  },
  {
   "cell_type": "code",
   "execution_count": 9,
   "metadata": {},
   "outputs": [],
   "source": [
    "flightsDf = flightsDf.withColumn('binaryArrDelay', f.when(flightsDf.ARRIVAL_DELAY > 0, 1).otherwise(0))\\\n",
    "                     .withColumn('binaryDeptDelay', f.when(flightsDf.DEPARTURE_DELAY > 0, 1).otherwise(0))"
   ]
  },
  {
   "cell_type": "markdown",
   "metadata": {},
   "source": [
    "Now we can see the two new columns that were created"
   ]
  },
  {
   "cell_type": "code",
   "execution_count": 13,
   "metadata": {
    "scrolled": true
   },
   "outputs": [
    {
     "data": {
      "text/plain": [
       "[Row(YEAR=2015, MONTH=6, DAY=26, DAY_OF_WEEK=5, AIRLINE='EV', FLIGHT_NUMBER=4951, TAIL_NUMBER='N707EV', ORIGIN_AIRPORT='BHM', DESTINATION_AIRPORT='LGA', SCHEDULED_DEPARTURE=630, DEPARTURE_TIME=629, DEPARTURE_DELAY=-1, TAXI_OUT=13, WHEELS_OFF=642, SCHEDULED_TIME=155, ELAPSED_TIME=141, AIR_TIME=113, DISTANCE=866, WHEELS_ON=935, TAXI_IN=15, SCHEDULED_ARRIVAL=1005, ARRIVAL_TIME=950, ARRIVAL_DELAY=-15, DIVERTED=0, CANCELLED=0, binaryArrDelay=0, binaryDeptDelay=0)]"
      ]
     },
     "execution_count": 13,
     "metadata": {},
     "output_type": "execute_result"
    }
   ],
   "source": [
    "flightsDf.take(1)"
   ]
  },
  {
   "cell_type": "code",
   "execution_count": 52,
   "metadata": {},
   "outputs": [],
   "source": [
    "import seaborn as sns"
   ]
  },
  {
   "cell_type": "code",
   "execution_count": 53,
   "metadata": {},
   "outputs": [
    {
     "data": {
      "text/plain": [
       "[Text(0.5, 1.0, 'Categories binaryArrDelay Label')]"
      ]
     },
     "execution_count": 53,
     "metadata": {},
     "output_type": "execute_result"
    },
    {
     "data": {
      "image/png": "[encoded data removed]",
      "text/plain": [
       "<Figure size 432x288 with 1 Axes>"
      ]
     },
     "metadata": {},
     "output_type": "display_data"
    }
   ],
   "source": [
    "flightsDf_pandas = flightsDf.toPandas()\n",
    "sns.set_theme(style=\"darkgrid\")\n",
    "ax = sns.barplot(x=\"binaryArrDelay\", y=\"binaryArrDelay\", data=flightsDf_pandas,\\\n",
    "                 estimator=lambda x: len(x) / len(flightsDf_pandas) * 100)\n",
    "ax.set(ylabel=\"Percent\")\n",
    "ax.set(title=\"Categories binaryArrDelay Label\")"
   ]
  },
  {
   "cell_type": "code",
   "execution_count": 54,
   "metadata": {},
   "outputs": [
    {
     "data": {
      "text/plain": [
       "[Text(0.5, 1.0, 'Categories binaryDeptDelay Label')]"
      ]
     },
     "execution_count": 54,
     "metadata": {},
     "output_type": "execute_result"
    },
    {
     "data": {
      "image/png": "[encoded data removed]",
      "text/plain": [
       "<Figure size 432x288 with 1 Axes>"
      ]
     },
     "metadata": {},
     "output_type": "display_data"
    }
   ],
   "source": [
    "sns.set_theme(style=\"darkgrid\")\n",
    "ax = sns.barplot(x=\"binaryDeptDelay\", y=\"binaryDeptDelay\", data=flightsDf_pandas,\\\n",
    "                 estimator=lambda x: len(x) / len(flightsDf_pandas) * 100)\n",
    "ax.set(ylabel=\"Percent\")\n",
    "ax.set(title=\"Categories binaryDeptDelay Label\")"
   ]
  },
  {
   "cell_type": "markdown",
   "metadata": {},
   "source": [
    "#### 1.3.2 Generate Multiclass labels <a class=\"anchor\" id=\"1.3.2\"></a>\n",
    "\n",
    "Using flightsDf we create new multiclass labels `multiClassArrDelay` and `multiCassDeptDelay`, which are generated from `ARRIVAL_DELAY` and `DEPARTURE_DELAY` respectively. The data is labeled as follows:\n",
    "- **Delay value lower than 5 (Early):** 0\n",
    "- **Delay value between 5 and 20 (On time):** 1\n",
    "- **Delay value greater than 20 (Late):** 2"
   ]
  },
  {
   "cell_type": "code",
   "execution_count": 10,
   "metadata": {},
   "outputs": [],
   "source": [
    "flightsDf = flightsDf.withColumn('multiClassArrDelay', f.when(flightsDf.ARRIVAL_DELAY < 5, 0)\\\n",
    "                                 .otherwise(f.when(flightsDf.ARRIVAL_DELAY <= 20, 1).otherwise(2)))\\\n",
    "                     .withColumn('multiClassDeptDelay', f.when(flightsDf.DEPARTURE_DELAY < 5, 0)\\\n",
    "                                 .otherwise(f.when(flightsDf.DEPARTURE_DELAY <= 20, 1).otherwise(2)))              "
   ]
  },
  {
   "cell_type": "markdown",
   "metadata": {},
   "source": [
    "Now we can see the two new columns that were created"
   ]
  },
  {
   "cell_type": "code",
   "execution_count": 15,
   "metadata": {},
   "outputs": [
    {
     "data": {
      "text/plain": [
       "[Row(YEAR=2015, MONTH=6, DAY=26, DAY_OF_WEEK=5, AIRLINE='EV', FLIGHT_NUMBER=4951, TAIL_NUMBER='N707EV', ORIGIN_AIRPORT='BHM', DESTINATION_AIRPORT='LGA', SCHEDULED_DEPARTURE=630, DEPARTURE_TIME=629, DEPARTURE_DELAY=-1, TAXI_OUT=13, WHEELS_OFF=642, SCHEDULED_TIME=155, ELAPSED_TIME=141, AIR_TIME=113, DISTANCE=866, WHEELS_ON=935, TAXI_IN=15, SCHEDULED_ARRIVAL=1005, ARRIVAL_TIME=950, ARRIVAL_DELAY=-15, DIVERTED=0, CANCELLED=0, binaryArrDelay=0, binaryDeptDelay=0, multiClassArrDelay=0, multiClassDeptDelay=0)]"
      ]
     },
     "execution_count": 15,
     "metadata": {},
     "output_type": "execute_result"
    }
   ],
   "source": [
    "flightsDf.take(1)"
   ]
  },
  {
   "cell_type": "markdown",
   "metadata": {},
   "source": [
    "#### 1.3.3 Generate Automatic Multiclass labels<a class=\"anchor\" id=\"1.3.3\"></a>\n",
    "In this task we wrote a function to execute data labelling automatically, in the last task we labeled them using a hardcoding method. In this function the user may determine the thresholds to determine each category. How many minutes of delay is considered early, and how many minutes is considered late. "
   ]
  },
  {
   "cell_type": "code",
   "execution_count": 11,
   "metadata": {},
   "outputs": [],
   "source": [
    "def createMulticlassLabel(df, earlyThreshold, lateThreshold):\n",
    "    # df: Dataframe to be transformed\n",
    "    # earlyThreshold: The number of minutes of delay that you consider as early (Lower than this number)\n",
    "    # lateThreshold: The number of minutes of delay that you consider as late (Greater than this number)\n",
    "    \n",
    "    transformed_df = df.withColumn('multiClassArrDelayAuto', f.when(df.ARRIVAL_DELAY < earlyThreshold, 0)\\\n",
    "                                   .otherwise(f.when(df.ARRIVAL_DELAY <= lateThreshold, 1).otherwise(2)))\\\n",
    "                        .withColumn('multiClassDeptDelayAuto', f.when(df.DEPARTURE_DELAY < earlyThreshold, 0)\\\n",
    "                                    .otherwise(f.when(df.DEPARTURE_DELAY <= lateThreshold, 1).otherwise(2))) \n",
    "    \n",
    "    return transformed_df    "
   ]
  },
  {
   "cell_type": "markdown",
   "metadata": {},
   "source": [
    "In order to effectively select the best thresholds for each category we will test different thresholds and we are going to observe the distribution of each category based on the thresholds selected. Also we are going to identify the distribution of `ARRIVAL_DELAY` and `DEPARTURE_DELAY` measured in minutes"
   ]
  },
  {
   "cell_type": "code",
   "execution_count": 19,
   "metadata": {},
   "outputs": [],
   "source": [
    "import matplotlib.pyplot as plt\n",
    "import numpy as np\n",
    "%matplotlib inline\n",
    "\n",
    "flightsDf_pandas = flightsDf.toPandas()"
   ]
  },
  {
   "cell_type": "code",
   "execution_count": 20,
   "metadata": {},
   "outputs": [
    {
     "data": {
      "image/png": "[encoded data removed]",
      "text/plain": [
       "<Figure size 432x288 with 1 Axes>"
      ]
     },
     "metadata": {
      "needs_background": "light"
     },
     "output_type": "display_data"
    }
   ],
   "source": [
    "plt.hist(flightsDf_pandas.ARRIVAL_DELAY, density=True, bins=500, label='ARRIVAL_DELAY', alpha=0.5)  \n",
    "plt.hist(flightsDf_pandas.DEPARTURE_DELAY, density=True, bins=500,label='DEPARTURE_DELAY', alpha=0.5)\n",
    "plt.ylabel('Probability')\n",
    "plt.xlabel('Minutes of Delay')\n",
    "plt.title('Distribution of Delay')\n",
    "plt.legend(loc='upper right')\n",
    "plt.xlim([-50, 100]);"
   ]
  },
  {
   "cell_type": "markdown",
   "metadata": {},
   "source": [
    "By observing this graph we can infere that the flights are more likely to be on time, because the peak of both distributions is around 0, and there are more chances that one flight is late than early. Just taking a look at this graph we can think of three different sets of thresholds that we could select to categorize the flights as `early (0)`, `on time (1)`, and `late (2)`, as we can see in the following table.\n",
    "\n",
    "|Iteration|Early Threshold|Late Threshold|On-time Threshols|\n",
    "|:-:|:-:|:-:|:-:|\n",
    "|1| $\\mathcal{x} < \\text{0 min}$|$\\mathcal{x} >\\text{5 min}$|$\\text{0} \\geq \\mathcal{x} \\geq \\text{5}$|\n",
    "|2| $\\mathcal{x} < \\text{-5 min}$|$\\mathcal{x} >\\text{5 min}$|$\\text{-5} \\geq \\mathcal{x} \\geq \\text{5}$|\n",
    "|3| $\\mathcal{x} < \\text{-10 min}$|$\\mathcal{x} >\\text{10 min}$|$\\text{-10} \\geq \\mathcal{x} \\geq \\text{10}$|\n",
    "   "
   ]
  },
  {
   "cell_type": "markdown",
   "metadata": {},
   "source": [
    "After having the parameters set, we are going to compare them by using some graphs, that let us know if the label is balanced or not. First we are going to create the first iteration"
   ]
  },
  {
   "cell_type": "markdown",
   "metadata": {},
   "source": [
    "**Iteration 1**"
   ]
  },
  {
   "cell_type": "code",
   "execution_count": 21,
   "metadata": {},
   "outputs": [],
   "source": [
    "flightsDf = createMulticlassLabel(flightsDf, 0, 5)"
   ]
  },
  {
   "cell_type": "markdown",
   "metadata": {},
   "source": [
    "And after doing that we are going to compare the three categories in the two columns created `ARRIVAL` and `DEPARTURE`"
   ]
  },
  {
   "cell_type": "code",
   "execution_count": 23,
   "metadata": {
    "scrolled": true
   },
   "outputs": [
    {
     "data": {
      "text/plain": [
       "[Text(0.5, 1.0, 'Categories multiClassArrDelayAuto Label')]"
      ]
     },
     "execution_count": 23,
     "metadata": {},
     "output_type": "execute_result"
    },
    {
     "data": {
      "image/png": "[encoded data removed]",
      "text/plain": [
       "<Figure size 432x288 with 1 Axes>"
      ]
     },
     "metadata": {},
     "output_type": "display_data"
    }
   ],
   "source": [
    "flightsDf_pandas = flightsDf.toPandas()\n",
    "sns.set_theme(style=\"darkgrid\")\n",
    "ax = sns.barplot(x=\"multiClassArrDelayAuto\", y=\"multiClassArrDelayAuto\", data=flightsDf_pandas,\\\n",
    "                 estimator=lambda x: len(x) / len(flightsDf_pandas) * 100)\n",
    "ax.set(ylabel=\"Percent\")\n",
    "ax.set(title=\"Categories multiClassArrDelayAuto Label\")"
   ]
  },
  {
   "cell_type": "code",
   "execution_count": 24,
   "metadata": {},
   "outputs": [
    {
     "data": {
      "text/plain": [
       "[Text(0.5, 1.0, 'Categories multiClassDeptDelayAuto Label')]"
      ]
     },
     "execution_count": 24,
     "metadata": {},
     "output_type": "execute_result"
    },
    {
     "data": {
      "image/png": "[encoded data removed]",
      "text/plain": [
       "<Figure size 432x288 with 1 Axes>"
      ]
     },
     "metadata": {},
     "output_type": "display_data"
    }
   ],
   "source": [
    "sns.set_theme(style=\"darkgrid\")\n",
    "ax = sns.barplot(x=\"multiClassDeptDelayAuto\", y=\"multiClassDeptDelayAuto\", data=flightsDf_pandas,\\\n",
    "                 estimator=lambda x: len(x) / len(flightsDf_pandas) * 100)\n",
    "ax.set(ylabel=\"Percent\")\n",
    "ax.set(title=\"Categories multiClassDeptDelayAuto Label\")"
   ]
  },
  {
   "cell_type": "markdown",
   "metadata": {},
   "source": [
    "In this iteration we can observe that the data is pretty unbalanced, as most of the labels are 0, and almost none is 1. This could lead to the model at not predicting well, the categories 1 and 2, because more than 70% of the training sets are labeled as 0. These thresholds are not that good to train the model and that is why we will proceed to do iteration 2"
   ]
  },
  {
   "cell_type": "markdown",
   "metadata": {},
   "source": [
    "**Iteration 2**"
   ]
  },
  {
   "cell_type": "code",
   "execution_count": 25,
   "metadata": {
    "scrolled": true
   },
   "outputs": [],
   "source": [
    "flightsDf = createMulticlassLabel(flightsDf, -5, 5)"
   ]
  },
  {
   "cell_type": "markdown",
   "metadata": {},
   "source": [
    "Again, after creating the new labels we are going to compare the three categories in the two columns created `ARRIVAL` and `DEPARTURE`"
   ]
  },
  {
   "cell_type": "code",
   "execution_count": 26,
   "metadata": {},
   "outputs": [
    {
     "data": {
      "text/plain": [
       "[Text(0.5, 1.0, 'Categories multiClassArrDelayAuto Label')]"
      ]
     },
     "execution_count": 26,
     "metadata": {},
     "output_type": "execute_result"
    },
    {
     "data": {
      "image/png": "[encoded data removed]",
      "text/plain": [
       "<Figure size 432x288 with 1 Axes>"
      ]
     },
     "metadata": {},
     "output_type": "display_data"
    }
   ],
   "source": [
    "flightsDf_pandas = flightsDf.toPandas()\n",
    "sns.set_theme(style=\"darkgrid\")\n",
    "ax = sns.barplot(x=\"multiClassArrDelayAuto\", y=\"multiClassArrDelayAuto\", data=flightsDf_pandas,\\\n",
    "                 estimator=lambda x: len(x) / len(flightsDf_pandas) * 100)\n",
    "ax.set(ylabel=\"Percent\")\n",
    "ax.set(title=\"Categories multiClassArrDelayAuto Label\")"
   ]
  },
  {
   "cell_type": "code",
   "execution_count": 27,
   "metadata": {},
   "outputs": [
    {
     "data": {
      "text/plain": [
       "[Text(0.5, 1.0, 'Categories multiClassDeptDelayAuto Label')]"
      ]
     },
     "execution_count": 27,
     "metadata": {},
     "output_type": "execute_result"
    },
    {
     "data": {
      "image/png": "[encoded data removed]",
      "text/plain": [
       "<Figure size 432x288 with 1 Axes>"
      ]
     },
     "metadata": {},
     "output_type": "display_data"
    }
   ],
   "source": [
    "sns.set_theme(style=\"darkgrid\")\n",
    "ax = sns.barplot(x=\"multiClassDeptDelayAuto\", y=\"multiClassDeptDelayAuto\", data=flightsDf_pandas,\\\n",
    "                 estimator=lambda x: len(x) / len(flightsDf_pandas) * 100)\n",
    "ax.set(ylabel=\"Percent\")\n",
    "ax.set(title=\"Categories multiClassDeptDelayAuto Label\")"
   ]
  },
  {
   "cell_type": "markdown",
   "metadata": {},
   "source": [
    "In this case, we can see that even though the most predominant category changes between `multiClassArrDelayAuto`, and `multiClassDeptDelayAuto`, in both cases the categories are pretty balanced, as each category has more than the 20% of the sets. This is good for training the model"
   ]
  },
  {
   "cell_type": "markdown",
   "metadata": {},
   "source": [
    "**Iteration 3**"
   ]
  },
  {
   "cell_type": "code",
   "execution_count": 28,
   "metadata": {},
   "outputs": [],
   "source": [
    "flightsDf = createMulticlassLabel(flightsDf, -10, 10)"
   ]
  },
  {
   "cell_type": "markdown",
   "metadata": {},
   "source": [
    "Again, after creating the new labels we are going to compare the three categories in the two columns created `ARRIVAL` and `DEPARTURE`"
   ]
  },
  {
   "cell_type": "code",
   "execution_count": 29,
   "metadata": {},
   "outputs": [
    {
     "data": {
      "text/plain": [
       "[Text(0.5, 1.0, 'Categories multiClassArrDelayAuto Label')]"
      ]
     },
     "execution_count": 29,
     "metadata": {},
     "output_type": "execute_result"
    },
    {
     "data": {
      "image/png": "[encoded data removed]",
      "text/plain": [
       "<Figure size 432x288 with 1 Axes>"
      ]
     },
     "metadata": {},
     "output_type": "display_data"
    }
   ],
   "source": [
    "flightsDf_pandas = flightsDf.toPandas()\n",
    "sns.set_theme(style=\"darkgrid\")\n",
    "ax = sns.barplot(x=\"multiClassArrDelayAuto\", y=\"multiClassArrDelayAuto\", data=flightsDf_pandas,\\\n",
    "                 estimator=lambda x: len(x) / len(flightsDf_pandas) * 100)\n",
    "ax.set(ylabel=\"Percent\")\n",
    "ax.set(title=\"Categories multiClassArrDelayAuto Label\")"
   ]
  },
  {
   "cell_type": "code",
   "execution_count": 30,
   "metadata": {},
   "outputs": [
    {
     "data": {
      "text/plain": [
       "[Text(0.5, 1.0, 'Categories multiClassDeptDelayAuto Label')]"
      ]
     },
     "execution_count": 30,
     "metadata": {},
     "output_type": "execute_result"
    },
    {
     "data": {
      "image/png": "[encoded data removed]",
      "text/plain": [
       "<Figure size 432x288 with 1 Axes>"
      ]
     },
     "metadata": {},
     "output_type": "display_data"
    }
   ],
   "source": [
    "sns.set_theme(style=\"darkgrid\")\n",
    "ax = sns.barplot(x=\"multiClassDeptDelayAuto\", y=\"multiClassDeptDelayAuto\", data=flightsDf_pandas,\\\n",
    "                 estimator=lambda x: len(x) / len(flightsDf_pandas) * 100)\n",
    "ax.set(ylabel=\"Percent\")\n",
    "ax.set(title=\"Categories multiClassDeptDelayAuto Label\")"
   ]
  },
  {
   "cell_type": "markdown",
   "metadata": {},
   "source": [
    "In the third iteration we can see that for the column `multiClassArrDelayAuto` the categories are pretty balanced, but not for `multiClassDeptDelayAuto`, and as we mentioned before this could be problematic when training the model for the last column. That is why we decided that the best iteration to train the model is **Iteration 2** and it is the one that we are going to select for training porpuses."
   ]
  },
  {
   "cell_type": "markdown",
   "metadata": {},
   "source": [
    "**Threshold Selection**                                                               \n",
    "*Iteration 2*"
   ]
  },
  {
   "cell_type": "code",
   "execution_count": 31,
   "metadata": {},
   "outputs": [],
   "source": [
    "flightsDf = flightsDf.drop(*['multiClassArrDelayAuto','multiClassDeptDelayAuto'])"
   ]
  },
  {
   "cell_type": "code",
   "execution_count": 12,
   "metadata": {},
   "outputs": [],
   "source": [
    "flightsDf = createMulticlassLabel(flightsDf, -5, 5)"
   ]
  },
  {
   "cell_type": "markdown",
   "metadata": {},
   "source": [
    "Finally, the new columns created that store labels for classifications are"
   ]
  },
  {
   "cell_type": "code",
   "execution_count": 13,
   "metadata": {},
   "outputs": [],
   "source": [
    "label_cols = ['binaryArrDelay', 'binaryDeptDelay', 'multiClassArrDelay', 'multiClassDeptDelay', 'multiClassArrDelayAuto', 'multiClassDeptDelayAuto']"
   ]
  },
  {
   "cell_type": "markdown",
   "metadata": {},
   "source": [
    "### 1.4 Data Exploration / Exploratory Analysis <a class=\"anchor\" id=\"1.4\"></a>\n",
    "[Back to top](#table)"
   ]
  },
  {
   "cell_type": "markdown",
   "metadata": {},
   "source": [
    "#### 1.4.1 Basic statistics  <a class=\"anchor\" id=\"1.4.1\"></a>\n",
    "Show the basic statistics for all the columns of the flightsDf, these statistics are:\n",
    "* count \n",
    "* mean \n",
    "* stdev\n",
    "* min\n",
    "* max\n",
    "* 25% percentile\n",
    "* 75% percentile \n",
    "\n",
    "To do that first we have to get the numerical columns, because there are columns like `AIRLINE` or `TAIL_NUMBER` that does not have any mean value. Because these columns store string values"
   ]
  },
  {
   "cell_type": "code",
   "execution_count": 35,
   "metadata": {
    "scrolled": true
   },
   "outputs": [
    {
     "data": {
      "text/html": [
       "<div>\n",
       "<style scoped>\n",
       "    .dataframe tbody tr th:only-of-type {\n",
       "        vertical-align: middle;\n",
       "    }\n",
       "\n",
       "    .dataframe tbody tr th {\n",
       "        vertical-align: top;\n",
       "    }\n",
       "\n",
       "    .dataframe thead th {\n",
       "        text-align: right;\n",
       "    }\n",
       "</style>\n",
       "<table border=\"1\" class=\"dataframe\">\n",
       "  <thead>\n",
       "    <tr style=\"text-align: right;\">\n",
       "      <th></th>\n",
       "      <th>summary</th>\n",
       "      <th>YEAR</th>\n",
       "      <th>MONTH</th>\n",
       "      <th>DAY</th>\n",
       "      <th>DAY_OF_WEEK</th>\n",
       "      <th>FLIGHT_NUMBER</th>\n",
       "      <th>SCHEDULED_DEPARTURE</th>\n",
       "      <th>DEPARTURE_TIME</th>\n",
       "      <th>DEPARTURE_DELAY</th>\n",
       "      <th>TAXI_OUT</th>\n",
       "      <th>...</th>\n",
       "      <th>ARRIVAL_TIME</th>\n",
       "      <th>ARRIVAL_DELAY</th>\n",
       "      <th>DIVERTED</th>\n",
       "      <th>CANCELLED</th>\n",
       "      <th>binaryArrDelay</th>\n",
       "      <th>binaryDeptDelay</th>\n",
       "      <th>multiClassArrDelay</th>\n",
       "      <th>multiClassDeptDelay</th>\n",
       "      <th>multiClassArrDelayAuto</th>\n",
       "      <th>multiClassDeptDelayAuto</th>\n",
       "    </tr>\n",
       "  </thead>\n",
       "  <tbody>\n",
       "    <tr>\n",
       "      <th>0</th>\n",
       "      <td>count</td>\n",
       "      <td>582184</td>\n",
       "      <td>582184</td>\n",
       "      <td>582184</td>\n",
       "      <td>582184</td>\n",
       "      <td>582184</td>\n",
       "      <td>582184</td>\n",
       "      <td>573551</td>\n",
       "      <td>573551</td>\n",
       "      <td>573293</td>\n",
       "      <td>...</td>\n",
       "      <td>572927</td>\n",
       "      <td>571729</td>\n",
       "      <td>582184</td>\n",
       "      <td>582184</td>\n",
       "      <td>582184</td>\n",
       "      <td>582184</td>\n",
       "      <td>582184</td>\n",
       "      <td>582184</td>\n",
       "      <td>582184</td>\n",
       "      <td>582184</td>\n",
       "    </tr>\n",
       "    <tr>\n",
       "      <th>1</th>\n",
       "      <td>mean</td>\n",
       "      <td>2015.0</td>\n",
       "      <td>6.519839088672997</td>\n",
       "      <td>15.708897874211589</td>\n",
       "      <td>3.927804611600456</td>\n",
       "      <td>2169.557499003751</td>\n",
       "      <td>1329.3633541972983</td>\n",
       "      <td>1334.8734550196932</td>\n",
       "      <td>9.39306007661045</td>\n",
       "      <td>16.082287765592813</td>\n",
       "      <td>...</td>\n",
       "      <td>1477.511702188935</td>\n",
       "      <td>4.467084930098001</td>\n",
       "      <td>0.0025490223022274746</td>\n",
       "      <td>0.015409217704368379</td>\n",
       "      <td>0.35908750498124303</td>\n",
       "      <td>0.3645943550492628</td>\n",
       "      <td>0.4718817418548088</td>\n",
       "      <td>0.4590593351929974</td>\n",
       "      <td>0.8192942437442458</td>\n",
       "      <td>1.0910262047737485</td>\n",
       "    </tr>\n",
       "    <tr>\n",
       "      <th>2</th>\n",
       "      <td>stddev</td>\n",
       "      <td>0.0</td>\n",
       "      <td>3.4063397236251207</td>\n",
       "      <td>8.777390675387641</td>\n",
       "      <td>1.9867958408825508</td>\n",
       "      <td>1754.691337367653</td>\n",
       "      <td>483.5681282875002</td>\n",
       "      <td>496.1943982309624</td>\n",
       "      <td>37.56953567086646</td>\n",
       "      <td>8.934520575285825</td>\n",
       "      <td>...</td>\n",
       "      <td>525.60037620284</td>\n",
       "      <td>39.78708619085888</td>\n",
       "      <td>0.0504234980416503</td>\n",
       "      <td>0.12317385994704136</td>\n",
       "      <td>0.4797333259834582</td>\n",
       "      <td>0.48131664135028207</td>\n",
       "      <td>0.7612542261443159</td>\n",
       "      <td>0.7559314219390667</td>\n",
       "      <td>0.8558962399743539</td>\n",
       "      <td>0.683103344057408</td>\n",
       "    </tr>\n",
       "    <tr>\n",
       "      <th>3</th>\n",
       "      <td>min</td>\n",
       "      <td>2015</td>\n",
       "      <td>1</td>\n",
       "      <td>1</td>\n",
       "      <td>1</td>\n",
       "      <td>1</td>\n",
       "      <td>1</td>\n",
       "      <td>1</td>\n",
       "      <td>-48</td>\n",
       "      <td>1</td>\n",
       "      <td>...</td>\n",
       "      <td>1</td>\n",
       "      <td>-82</td>\n",
       "      <td>0</td>\n",
       "      <td>0</td>\n",
       "      <td>0</td>\n",
       "      <td>0</td>\n",
       "      <td>0</td>\n",
       "      <td>0</td>\n",
       "      <td>0</td>\n",
       "      <td>0</td>\n",
       "    </tr>\n",
       "    <tr>\n",
       "      <th>4</th>\n",
       "      <td>25%</td>\n",
       "      <td>2015</td>\n",
       "      <td>4</td>\n",
       "      <td>8</td>\n",
       "      <td>2</td>\n",
       "      <td>730</td>\n",
       "      <td>917</td>\n",
       "      <td>921</td>\n",
       "      <td>-5</td>\n",
       "      <td>11</td>\n",
       "      <td>...</td>\n",
       "      <td>1059</td>\n",
       "      <td>-13</td>\n",
       "      <td>0</td>\n",
       "      <td>0</td>\n",
       "      <td>0</td>\n",
       "      <td>0</td>\n",
       "      <td>0</td>\n",
       "      <td>0</td>\n",
       "      <td>0</td>\n",
       "      <td>1</td>\n",
       "    </tr>\n",
       "    <tr>\n",
       "      <th>5</th>\n",
       "      <td>50%</td>\n",
       "      <td>2015</td>\n",
       "      <td>7</td>\n",
       "      <td>16</td>\n",
       "      <td>4</td>\n",
       "      <td>1687</td>\n",
       "      <td>1325</td>\n",
       "      <td>1330</td>\n",
       "      <td>-2</td>\n",
       "      <td>14</td>\n",
       "      <td>...</td>\n",
       "      <td>1512</td>\n",
       "      <td>-5</td>\n",
       "      <td>0</td>\n",
       "      <td>0</td>\n",
       "      <td>0</td>\n",
       "      <td>0</td>\n",
       "      <td>0</td>\n",
       "      <td>0</td>\n",
       "      <td>1</td>\n",
       "      <td>1</td>\n",
       "    </tr>\n",
       "    <tr>\n",
       "      <th>6</th>\n",
       "      <td>75%</td>\n",
       "      <td>2015</td>\n",
       "      <td>9</td>\n",
       "      <td>23</td>\n",
       "      <td>6</td>\n",
       "      <td>3221</td>\n",
       "      <td>1730</td>\n",
       "      <td>1740</td>\n",
       "      <td>7</td>\n",
       "      <td>19</td>\n",
       "      <td>...</td>\n",
       "      <td>1917</td>\n",
       "      <td>8</td>\n",
       "      <td>0</td>\n",
       "      <td>0</td>\n",
       "      <td>1</td>\n",
       "      <td>1</td>\n",
       "      <td>1</td>\n",
       "      <td>1</td>\n",
       "      <td>2</td>\n",
       "      <td>2</td>\n",
       "    </tr>\n",
       "    <tr>\n",
       "      <th>7</th>\n",
       "      <td>max</td>\n",
       "      <td>2015</td>\n",
       "      <td>12</td>\n",
       "      <td>31</td>\n",
       "      <td>7</td>\n",
       "      <td>7438</td>\n",
       "      <td>2359</td>\n",
       "      <td>2400</td>\n",
       "      <td>1670</td>\n",
       "      <td>200</td>\n",
       "      <td>...</td>\n",
       "      <td>2400</td>\n",
       "      <td>1665</td>\n",
       "      <td>1</td>\n",
       "      <td>1</td>\n",
       "      <td>1</td>\n",
       "      <td>1</td>\n",
       "      <td>2</td>\n",
       "      <td>2</td>\n",
       "      <td>2</td>\n",
       "      <td>2</td>\n",
       "    </tr>\n",
       "  </tbody>\n",
       "</table>\n",
       "<p>8 rows × 28 columns</p>\n",
       "</div>"
      ],
      "text/plain": [
       "  summary    YEAR               MONTH                 DAY         DAY_OF_WEEK  \\\n",
       "0   count  582184              582184              582184              582184   \n",
       "1    mean  2015.0   6.519839088672997  15.708897874211589   3.927804611600456   \n",
       "2  stddev     0.0  3.4063397236251207   8.777390675387641  1.9867958408825508   \n",
       "3     min    2015                   1                   1                   1   \n",
       "4     25%    2015                   4                   8                   2   \n",
       "5     50%    2015                   7                  16                   4   \n",
       "6     75%    2015                   9                  23                   6   \n",
       "7     max    2015                  12                  31                   7   \n",
       "\n",
       "       FLIGHT_NUMBER SCHEDULED_DEPARTURE      DEPARTURE_TIME  \\\n",
       "0             582184              582184              573551   \n",
       "1  2169.557499003751  1329.3633541972983  1334.8734550196932   \n",
       "2  1754.691337367653   483.5681282875002   496.1943982309624   \n",
       "3                  1                   1                   1   \n",
       "4                730                 917                 921   \n",
       "5               1687                1325                1330   \n",
       "6               3221                1730                1740   \n",
       "7               7438                2359                2400   \n",
       "\n",
       "     DEPARTURE_DELAY            TAXI_OUT  ...       ARRIVAL_TIME  \\\n",
       "0             573551              573293  ...             572927   \n",
       "1   9.39306007661045  16.082287765592813  ...  1477.511702188935   \n",
       "2  37.56953567086646   8.934520575285825  ...    525.60037620284   \n",
       "3                -48                   1  ...                  1   \n",
       "4                 -5                  11  ...               1059   \n",
       "5                 -2                  14  ...               1512   \n",
       "6                  7                  19  ...               1917   \n",
       "7               1670                 200  ...               2400   \n",
       "\n",
       "       ARRIVAL_DELAY               DIVERTED             CANCELLED  \\\n",
       "0             571729                 582184                582184   \n",
       "1  4.467084930098001  0.0025490223022274746  0.015409217704368379   \n",
       "2  39.78708619085888     0.0504234980416503   0.12317385994704136   \n",
       "3                -82                      0                     0   \n",
       "4                -13                      0                     0   \n",
       "5                 -5                      0                     0   \n",
       "6                  8                      0                     0   \n",
       "7               1665                      1                     1   \n",
       "\n",
       "        binaryArrDelay      binaryDeptDelay  multiClassArrDelay  \\\n",
       "0               582184               582184              582184   \n",
       "1  0.35908750498124303   0.3645943550492628  0.4718817418548088   \n",
       "2   0.4797333259834582  0.48131664135028207  0.7612542261443159   \n",
       "3                    0                    0                   0   \n",
       "4                    0                    0                   0   \n",
       "5                    0                    0                   0   \n",
       "6                    1                    1                   1   \n",
       "7                    1                    1                   2   \n",
       "\n",
       "  multiClassDeptDelay multiClassArrDelayAuto multiClassDeptDelayAuto  \n",
       "0              582184                 582184                  582184  \n",
       "1  0.4590593351929974     0.8192942437442458      1.0910262047737485  \n",
       "2  0.7559314219390667     0.8558962399743539       0.683103344057408  \n",
       "3                   0                      0                       0  \n",
       "4                   0                      0                       1  \n",
       "5                   0                      1                       1  \n",
       "6                   1                      2                       2  \n",
       "7                   2                      2                       2  \n",
       "\n",
       "[8 rows x 28 columns]"
      ]
     },
     "execution_count": 35,
     "metadata": {},
     "output_type": "execute_result"
    }
   ],
   "source": [
    "# Get only the columns that does not store string values\n",
    "numeric_columns = [f.name for f in flightsDf.schema.fields if not isinstance(f.dataType, StringType)]\n",
    "\n",
    "# Return a summary table with all the basic statistics\n",
    "flightsDf[numeric_columns].summary().toPandas()"
   ]
  },
  {
   "cell_type": "markdown",
   "metadata": {},
   "source": [
    "Afterwards, we are going to display basic statistics for each columns. Those statistics are:\n",
    "* Total unique categories\n",
    "* Category name\n",
    "* Frequency of the highest occurring category"
   ]
  },
  {
   "cell_type": "code",
   "execution_count": 36,
   "metadata": {},
   "outputs": [
    {
     "data": {
      "text/html": [
       "<div>\n",
       "<style scoped>\n",
       "    .dataframe tbody tr th:only-of-type {\n",
       "        vertical-align: middle;\n",
       "    }\n",
       "\n",
       "    .dataframe tbody tr th {\n",
       "        vertical-align: top;\n",
       "    }\n",
       "\n",
       "    .dataframe thead th {\n",
       "        text-align: right;\n",
       "    }\n",
       "</style>\n",
       "<table border=\"1\" class=\"dataframe\">\n",
       "  <thead>\n",
       "    <tr style=\"text-align: right;\">\n",
       "      <th></th>\n",
       "      <th>AIRLINE</th>\n",
       "      <th>TAIL_NUMBER</th>\n",
       "      <th>ORIGIN_AIRPORT</th>\n",
       "      <th>DESTINATION_AIRPORT</th>\n",
       "    </tr>\n",
       "  </thead>\n",
       "  <tbody>\n",
       "    <tr>\n",
       "      <th>count</th>\n",
       "      <td>582184</td>\n",
       "      <td>580722</td>\n",
       "      <td>582184</td>\n",
       "      <td>582184</td>\n",
       "    </tr>\n",
       "    <tr>\n",
       "      <th>unique</th>\n",
       "      <td>14</td>\n",
       "      <td>4803</td>\n",
       "      <td>625</td>\n",
       "      <td>624</td>\n",
       "    </tr>\n",
       "    <tr>\n",
       "      <th>top</th>\n",
       "      <td>WN</td>\n",
       "      <td>N480HA</td>\n",
       "      <td>ATL</td>\n",
       "      <td>ATL</td>\n",
       "    </tr>\n",
       "    <tr>\n",
       "      <th>freq</th>\n",
       "      <td>125840</td>\n",
       "      <td>398</td>\n",
       "      <td>34839</td>\n",
       "      <td>34493</td>\n",
       "    </tr>\n",
       "  </tbody>\n",
       "</table>\n",
       "</div>"
      ],
      "text/plain": [
       "       AIRLINE TAIL_NUMBER ORIGIN_AIRPORT DESTINATION_AIRPORT\n",
       "count   582184      580722         582184              582184\n",
       "unique      14        4803            625                 624\n",
       "top         WN      N480HA            ATL                 ATL\n",
       "freq    125840         398          34839               34493"
      ]
     },
     "execution_count": 36,
     "metadata": {},
     "output_type": "execute_result"
    }
   ],
   "source": [
    "# Get only the columns that does not store string values\n",
    "str_columns = [f.name for f in flightsDf.schema.fields if isinstance(f.dataType, StringType)]\n",
    "\n",
    "# Return a summary table with all the basic statistics\n",
    "flightsDf[str_columns].toPandas().describe(include='object')"
   ]
  },
  {
   "cell_type": "markdown",
   "metadata": {},
   "source": [
    "#### 1.4.2 Histograms for fligths delay  <a class=\"anchor\" id=\"1.4.2\"></a>"
   ]
  },
  {
   "cell_type": "markdown",
   "metadata": {},
   "source": [
    "**a. Percentage of flights that arrive late each month.**\n",
    "\n",
    "First we select the dataframe that will be displayed, to do that group the dat by `MONTH`, the sum all the values of the column `binaryArrDelay` and divide them by the count of `binaryArrDelay` "
   ]
  },
  {
   "cell_type": "code",
   "execution_count": 38,
   "metadata": {},
   "outputs": [
    {
     "name": "stdout",
     "output_type": "stream",
     "text": [
      "+-----+------------------+\n",
      "|MONTH|PERC_ARRIVAL_DELAY|\n",
      "+-----+------------------+\n",
      "|    1|            0.3904|\n",
      "|    2|            0.4067|\n",
      "|    3|            0.3783|\n",
      "|    4|             0.355|\n",
      "|    5|            0.3545|\n",
      "|    6|            0.4133|\n",
      "|    7|            0.3855|\n",
      "|    8|            0.3543|\n",
      "|    9|            0.2856|\n",
      "|   10|            0.2925|\n",
      "|   11|            0.3181|\n",
      "|   12|            0.3732|\n",
      "+-----+------------------+\n",
      "\n"
     ]
    }
   ],
   "source": [
    "perc_arrival_delay_month = flightsDf.groupBy(\"MONTH\").agg(round(sum(\"binaryArrDelay\")/count(\"binaryArrDelay\"), 4)\\\n",
    "                                                          .alias(\"PERC_ARRIVAL_DELAY\")).orderBy('MONTH', ascending=True)\n",
    "perc_arrival_delay_month.show()"
   ]
  },
  {
   "cell_type": "code",
   "execution_count": 39,
   "metadata": {},
   "outputs": [
    {
     "data": {
      "image/png": "[encoded data removed]",
      "text/plain": [
       "<Figure size 432x288 with 1 Axes>"
      ]
     },
     "metadata": {
      "needs_background": "light"
     },
     "output_type": "display_data"
    }
   ],
   "source": [
    "perc_arrival_delay_month_pandas = perc_arrival_delay_month.toPandas()\n",
    "months = perc_arrival_delay_month_pandas.MONTH\n",
    "perc = perc_arrival_delay_month_pandas.PERC_ARRIVAL_DELAY\n",
    "\n",
    "fig = plt.figure()\n",
    "ax = fig.add_axes([0,0,1,1])\n",
    "plt.xticks(range(1,13,1))\n",
    "ax.set_ylabel('% Arrival delay')\n",
    "ax.set_xlabel('Month')\n",
    "ax.set_title('Percentage of flights that arrive late each month')\n",
    "ax.bar(months,perc, color='#000080')\n",
    "plt.show()"
   ]
  },
  {
   "cell_type": "markdown",
   "metadata": {},
   "source": [
    "**b. Percentage of flights that arrive late each day of week.**\n",
    "\n",
    "First we select the dataframe that will be displayed, to do that group the dat by `DAY_OF_WEEK`, the sum all the values of the column `binaryArrDelay` and divide them by the count of `binaryArrDelay` "
   ]
  },
  {
   "cell_type": "code",
   "execution_count": 40,
   "metadata": {
    "scrolled": false
   },
   "outputs": [
    {
     "name": "stdout",
     "output_type": "stream",
     "text": [
      "+-----------+------------------+\n",
      "|DAY_OF_WEEK|PERC_ARRIVAL_DELAY|\n",
      "+-----------+------------------+\n",
      "|          1|            0.3636|\n",
      "|          2|            0.3501|\n",
      "|          3|            0.3567|\n",
      "|          4|            0.3859|\n",
      "|          5|             0.378|\n",
      "|          6|            0.3202|\n",
      "|          7|            0.3508|\n",
      "+-----------+------------------+\n",
      "\n"
     ]
    }
   ],
   "source": [
    "perc_arrival_delay_dayofweek = flightsDf.groupBy(\"DAY_OF_WEEK\").agg(round(sum(\"binaryArrDelay\")/count(\"binaryArrDelay\"), 4)\\\n",
    "                                                          .alias(\"PERC_ARRIVAL_DELAY\")).orderBy('DAY_OF_WEEK', ascending=True)\n",
    "perc_arrival_delay_dayofweek.show()"
   ]
  },
  {
   "cell_type": "code",
   "execution_count": 41,
   "metadata": {},
   "outputs": [
    {
     "data": {
      "image/png": "[encoded data removed]",
      "text/plain": [
       "<Figure size 432x288 with 1 Axes>"
      ]
     },
     "metadata": {
      "needs_background": "light"
     },
     "output_type": "display_data"
    }
   ],
   "source": [
    "perc_arrival_delay_dayofweek_pandas = perc_arrival_delay_dayofweek.toPandas()\n",
    "dayOfWeek = perc_arrival_delay_dayofweek_pandas.DAY_OF_WEEK\n",
    "perc = perc_arrival_delay_dayofweek_pandas.PERC_ARRIVAL_DELAY\n",
    "\n",
    "fig = plt.figure()\n",
    "ax = fig.add_axes([0,0,1,1])\n",
    "ax.set_ylabel('% Arrival delay')\n",
    "ax.set_xlabel('Day of the Week')\n",
    "ax.set_title('Percentage of flights that arrive late each day of the week')\n",
    "ax.bar(dayOfWeek,perc, color='#000080')\n",
    "plt.show()"
   ]
  },
  {
   "cell_type": "markdown",
   "metadata": {},
   "source": [
    "**c. Percentage of delayed flights by airline.**\n",
    "\n",
    "First we select the dataframe that will be displayed, to do that group the dat by `AIRLINE`, the sum all the values of the column `binaryArrDelay` and divide them by the count of `binaryArrDelay` "
   ]
  },
  {
   "cell_type": "code",
   "execution_count": 42,
   "metadata": {},
   "outputs": [
    {
     "name": "stdout",
     "output_type": "stream",
     "text": [
      "+-------+------------------+\n",
      "|AIRLINE|PERC_ARRIVAL_DELAY|\n",
      "+-------+------------------+\n",
      "|     AA|            0.3492|\n",
      "|     AS|            0.3324|\n",
      "|     B6|             0.384|\n",
      "|     DL|            0.2846|\n",
      "|     EV|            0.3773|\n",
      "|     F9|            0.4529|\n",
      "|     HA|            0.4025|\n",
      "|     MQ|            0.3526|\n",
      "|     NK|            0.4868|\n",
      "|     OO|            0.3781|\n",
      "|     UA|            0.3621|\n",
      "|     US|            0.3834|\n",
      "|     VX|            0.4001|\n",
      "|     WN|            0.3711|\n",
      "+-------+------------------+\n",
      "\n"
     ]
    }
   ],
   "source": [
    "perc_arrival_delay_airline = flightsDf.groupBy(\"AIRLINE\").agg(round(sum(\"binaryArrDelay\")/count(\"binaryArrDelay\"), 4)\\\n",
    "                                                          .alias(\"PERC_ARRIVAL_DELAY\")).orderBy('AIRLINE', ascending=True)\n",
    "perc_arrival_delay_airline.show()"
   ]
  },
  {
   "cell_type": "code",
   "execution_count": 43,
   "metadata": {},
   "outputs": [
    {
     "data": {
      "image/png": "[encoded data removed]",
      "text/plain": [
       "<Figure size 432x288 with 1 Axes>"
      ]
     },
     "metadata": {
      "needs_background": "light"
     },
     "output_type": "display_data"
    }
   ],
   "source": [
    "perc_arrival_delay_airline_pandas = perc_arrival_delay_airline.toPandas()\n",
    "airline = perc_arrival_delay_airline_pandas.AIRLINE\n",
    "perc = perc_arrival_delay_airline_pandas.PERC_ARRIVAL_DELAY\n",
    "\n",
    "fig = plt.figure()\n",
    "ax = fig.add_axes([0,0,1,1])\n",
    "ax.set_ylabel('% Arrival delay')\n",
    "ax.set_xlabel('Airline')\n",
    "ax.set_title('Percentage of flights that arrive late by airline')\n",
    "ax.bar(airline,perc, color='#000080')\n",
    "plt.show()"
   ]
  },
  {
   "cell_type": "markdown",
   "metadata": {},
   "source": [
    "## 2. Feature extraction and ML Training <a class=\"anchor\" id=\"2\"></a>"
   ]
  },
  {
   "cell_type": "code",
   "execution_count": 14,
   "metadata": {},
   "outputs": [],
   "source": [
    "from pyspark.ml.stat import Correlation\n",
    "from pyspark.ml.feature import VectorAssembler"
   ]
  },
  {
   "cell_type": "markdown",
   "metadata": {},
   "source": [
    "### 2.1 Feature selection <a class=\"anchor\" id=\"2.1\"></a>\n",
    "[Back to top](#table)\n",
    "\n",
    "In this feature selection, we are able to choose any column, and we are aware that every column could give us information for the prediction. Even though there are two things we want to remove from our dataset. The first one if the NA values, we have that many rows that we can drop the rows that have at least one missing value and we still have many rows to do the analysis. The NA values are problematic, and we can't calculate the correlation matrix, with this type of values. \n",
    "\n",
    "In previous taks we removed the columns that have a rate of missing values over than 50%, but we did not remove the missing values from the remaining one. "
   ]
  },
  {
   "cell_type": "code",
   "execution_count": 15,
   "metadata": {},
   "outputs": [],
   "source": [
    "flightsDf = flightsDf.na.drop()"
   ]
  },
  {
   "cell_type": "markdown",
   "metadata": {},
   "source": [
    "The second thing we want to remove are the columns that only have one distinct value, these columns does not bring any benefit to the analysis, the can't be used in our correlation matrix either. Therefor they are going to be removed"
   ]
  },
  {
   "cell_type": "code",
   "execution_count": 16,
   "metadata": {},
   "outputs": [
    {
     "data": {
      "text/plain": [
       "['YEAR', 'DIVERTED', 'CANCELLED']"
      ]
     },
     "execution_count": 16,
     "metadata": {},
     "output_type": "execute_result"
    }
   ],
   "source": [
    "# Dataset that stores the number of unique values per column\n",
    "uniqueValueCounts = flightsDf.agg(*(countDistinct(col(x)).alias(x) for x in flightsDf.columns))\n",
    "\n",
    "# List of columns that only have 1 unique value\n",
    "oneUniqueValueCols = [x for x in uniqueValueCounts.columns if uniqueValueCounts.collect()[0][x] == 1]\n",
    "oneUniqueValueCols"
   ]
  },
  {
   "cell_type": "markdown",
   "metadata": {},
   "source": [
    "Now we can see that the columns `YEAR`, `DIVERTED`, and `CANCELLED` only have one unique value, that why they are useless and are going to be dropped"
   ]
  },
  {
   "cell_type": "code",
   "execution_count": 17,
   "metadata": {},
   "outputs": [],
   "source": [
    "# List wth columns that have more than one different value\n",
    "cols = [x for x in uniqueValueCounts.columns if uniqueValueCounts.collect()[0][x] > 1]\n",
    "\n",
    "# Removing the useless columns\n",
    "flightsDf = flightsDf[cols]"
   ]
  },
  {
   "cell_type": "markdown",
   "metadata": {},
   "source": [
    "After removing the NA values and the useless columns. The structure of the new dataset is"
   ]
  },
  {
   "cell_type": "code",
   "execution_count": 48,
   "metadata": {},
   "outputs": [
    {
     "name": "stdout",
     "output_type": "stream",
     "text": [
      "The dataframe flightsDf has 571729 rows and 28 columns\n"
     ]
    }
   ],
   "source": [
    "# Print number of partitions, rows and columns\n",
    "print(\"The dataframe flightsDf has\", flightsDf.count(),'rows and', len(flightsDf.columns), \"columns\")"
   ]
  },
  {
   "cell_type": "markdown",
   "metadata": {},
   "source": [
    "When we remove the columns over the threshold we had 25 columns, then we added 6 columns more for classification, and now we are removing 3. Having a total of 28 columns. \n",
    "Also we had 582,184 rows and by removing the NA values we dropped 10,455. That could sound like to many rows, but it is only the 1.79% of the entire dataframe "
   ]
  },
  {
   "cell_type": "markdown",
   "metadata": {},
   "source": [
    "**a. Correlation Matrix**                              \n",
    "Now we are going to calculate the correlation matrix for the dataset, but we are dropping the categorical ones, as they have no correlation with any other. Also removing the labels created above, as we are only finding correlation between attributes.\n",
    "\n",
    "When using the `Pearson` correlation between variables, we must drop the categorical columns becaudse there is no such a thing like correlation between categorical values between them of with a numerical one. When plotting the correlation matrix if we use categorical values, all the row or column where the categorical value is displayed shows no value, therefore, it can not be analyzed. In this case as we are using the following categorical features: `AIRLINE`, `TAIL_NUMBER`, `ORIGIN_AIRPORT`, `DESTINATION_AIRPORT`, which are features that we consider meaningful for training the model. That is why we are going to use those features, regardless the correlation between other variables."
   ]
  },
  {
   "cell_type": "code",
   "execution_count": 49,
   "metadata": {},
   "outputs": [],
   "source": [
    "inputColumns = [f.name for f in flightsDf.schema.fields if not isinstance(f.dataType, StringType)] # Removing strings \n",
    "inputColumns = [c for c in inputColumns if c not in label_cols] # Removing labels\n",
    "\n",
    "# convert to vector column first\n",
    "vector_col = \"corr_features\"\n",
    "assembler = VectorAssembler(inputCols=inputColumns, outputCol=vector_col)\n",
    "flightsDf_vector = assembler.transform(flightsDf).select(vector_col)\n",
    "matrix = Correlation.corr(flightsDf_vector, vector_col, \"pearson\").collect()[0][0]\n",
    "corrmatrix = matrix.toArray().tolist()"
   ]
  },
  {
   "cell_type": "code",
   "execution_count": 50,
   "metadata": {},
   "outputs": [
    {
     "data": {
      "image/png": "[encoded data removed]",
      "text/plain": [
       "<Figure size 1368x1080 with 2 Axes>"
      ]
     },
     "metadata": {
      "needs_background": "light"
     },
     "output_type": "display_data"
    }
   ],
   "source": [
    "f = plt.figure(figsize=(19, 15))\n",
    "plt.matshow(corrmatrix, fignum=1)\n",
    "plt.xticks(range(len(inputColumns)), inputColumns, fontsize=14, rotation=90)\n",
    "plt.yticks(range(len(inputColumns)), inputColumns, fontsize=14)\n",
    "cb = plt.colorbar()\n",
    "cb.ax.tick_params(labelsize=14)\n",
    "plt.title('Correlation Matrix', fontsize=16);"
   ]
  },
  {
   "cell_type": "markdown",
   "metadata": {},
   "source": [
    "After analyzing the correlation matrix, we concluded the following things:\n",
    "* We must remove `DEPARTURE_DELAY` and `ARRIVAL_DELAY`. These two features helped us construct the labels, so inderectly those are the labels of the model, so we have to remove them as this is what we want to predict.\n",
    "* To avoid multicolinearity problems, we must remove highly highly correlated variables. In this case we can see that `FLIGHT_NUMBER` is highly correlated with 4 variables, and `WHEELS_OFF`  does too with 2 of them.\n",
    "* Following the multicolinearity problems we can see that in the middle of the matrix, there are 4 variables that are highly positive correlated, those are `SCHEDULED_TIME`, `ELAPSED_TIME`, `AIR_TIME`, and `DISTANCE`. If we think it closely those variables are almost the same, and all of them depend of each other. That is why if we only keep one. The other would be represented. That is why we are only going to select `DISTANCE` that could better represent the other ones.\n",
    "\n",
    "**Summary:** In order to avoid the curse of the dimensionality we are going to select the less number of features that better represent the dataset, in order to make the best prediction possible. In this case as it was already mentioned we are going to remove the following columns.\n",
    "\n",
    "* DEPARTURE_DELAY\n",
    "* ARRIVAL_DELAY\n",
    "* FLIGHT_NUMBER\n",
    "* WHEELS_OFF\n",
    "* SCHEDULED_TIME\n",
    "* ELAPSED_TIME\n",
    "* AIR_TIME"
   ]
  },
  {
   "cell_type": "code",
   "execution_count": 18,
   "metadata": {},
   "outputs": [
    {
     "data": {
      "text/plain": [
       "['MONTH',\n",
       " 'DAY',\n",
       " 'DAY_OF_WEEK',\n",
       " 'AIRLINE',\n",
       " 'TAIL_NUMBER',\n",
       " 'ORIGIN_AIRPORT',\n",
       " 'DESTINATION_AIRPORT',\n",
       " 'SCHEDULED_DEPARTURE',\n",
       " 'DEPARTURE_TIME',\n",
       " 'TAXI_OUT',\n",
       " 'DISTANCE',\n",
       " 'WHEELS_ON',\n",
       " 'TAXI_IN',\n",
       " 'SCHEDULED_ARRIVAL',\n",
       " 'ARRIVAL_TIME',\n",
       " 'binaryArrDelay',\n",
       " 'binaryDeptDelay',\n",
       " 'multiClassArrDelay',\n",
       " 'multiClassDeptDelay',\n",
       " 'multiClassArrDelayAuto',\n",
       " 'multiClassDeptDelayAuto']"
      ]
     },
     "execution_count": 18,
     "metadata": {},
     "output_type": "execute_result"
    }
   ],
   "source": [
    "removed_features = ['DEPARTURE_DELAY', 'ARRIVAL_DELAY', 'FLIGHT_NUMBER',\\\n",
    "                    'WHEELS_OFF', 'SCHEDULED_TIME', 'ELAPSED_TIME', 'AIR_TIME']\n",
    "feature_selection = [c for c in flightsDf.columns if c not in removed_features]\n",
    "flightsDf = flightsDf[feature_selection]\n",
    "flightsDf.columns"
   ]
  },
  {
   "cell_type": "markdown",
   "metadata": {},
   "source": [
    "After the feature selection the columns above are the columns that we will use to train our models, and now we will categorize these columns again into `numerical` and `categorical`"
   ]
  },
  {
   "cell_type": "code",
   "execution_count": 19,
   "metadata": {},
   "outputs": [],
   "source": [
    "cat_columns = [f.name for f in flightsDf.schema.fields if isinstance(f.dataType, StringType)]\n",
    "num_columns = list(set([f.name for f in flightsDf.schema.fields if not isinstance(f.dataType, StringType)])-set(label_cols))\n",
    "label_cols = label_cols # It was created before"
   ]
  },
  {
   "cell_type": "markdown",
   "metadata": {},
   "source": [
    "### 2.2 Preparing Spark ML Transformers/ Estimators <a class=\"anchor\" id=\"2.2\"></a>\n",
    "[Back to top](#table)\n",
    "\n",
    "Before we perform the training of the model, we proceed to transform the dataset, as we considered that the categorical values are important. We need to convert them from string to numeric with `StringIndexer`, after that we need to convert those columns into One Hot Value using the function `OneHotEncoder`, and after that we assambled all the columns together (Categorical converted to OneHot and the numerical one)"
   ]
  },
  {
   "cell_type": "code",
   "execution_count": 20,
   "metadata": {},
   "outputs": [],
   "source": [
    "from pyspark.ml.feature import StringIndexer\n",
    "from pyspark.ml.feature import OneHotEncoder\n",
    "from pyspark.ml import Pipeline"
   ]
  },
  {
   "cell_type": "markdown",
   "metadata": {},
   "source": [
    "#### 2.2.1 Transform the dataset <a class=\"anchor\" id=\"2.2.1\"></a>\n",
    "**a. Feature Engineering**                       \n",
    "Each stage of the transformation is showed here"
   ]
  },
  {
   "cell_type": "markdown",
   "metadata": {},
   "source": [
    "First we add a new column to the dataframe "
   ]
  },
  {
   "cell_type": "code",
   "execution_count": 21,
   "metadata": {},
   "outputs": [],
   "source": [
    "indexer = StringIndexer(inputCols = cat_columns, outputCols = [f'{x}_index' for x in cat_columns])\n",
    "encoder = OneHotEncoder(inputCols = [f'{x}_index' for x in cat_columns], outputCols = [f'{x}_vec' for x in cat_columns])\n",
    "assembler = VectorAssembler(inputCols = (num_columns + [f'{x}_vec' for x in cat_columns]), outputCol = 'features')"
   ]
  },
  {
   "cell_type": "markdown",
   "metadata": {},
   "source": [
    "**b. Pipeline**                      \n",
    "Having all the satges of the transformation, we proceed to use the function `Pipeline` to perform all the stages at once, and getting as the output a new dataframe called `flightsDf_transformed` that has all the original features, and the ones created by us. From this dataset we can select manually the columns that we want to use in each estimator"
   ]
  },
  {
   "cell_type": "code",
   "execution_count": 22,
   "metadata": {},
   "outputs": [],
   "source": [
    "pipeline = Pipeline(stages = [indexer,encoder,assembler])\n",
    "pipelineModel = pipeline.fit(flightsDf)\n",
    "flightsDf_transformed = pipelineModel.transform(flightsDf)"
   ]
  },
  {
   "cell_type": "markdown",
   "metadata": {},
   "source": [
    "#### 2.2.2 Model Estimators <a class=\"anchor\" id=\"2.2.2\"></a>\n",
    "**a. Decision Tree**                                               \n",
    "To build the Decision Tree model we are going to use `binaryArrDelay` and `binaryDeptDelay` as labels. That is why we will create two different estimators with `maxDepth = 3`"
   ]
  },
  {
   "cell_type": "code",
   "execution_count": 23,
   "metadata": {},
   "outputs": [],
   "source": [
    "from pyspark.ml.classification import DecisionTreeClassifier\n",
    "\n",
    "# Build Decision Tree Classifier with the corresponding label and maxDepth = 3\n",
    "dt_ArrDelay = DecisionTreeClassifier(featuresCol = 'features', labelCol = 'binaryArrDelay', maxDepth = 3)\n",
    "dt_DeptDelay = DecisionTreeClassifier(featuresCol = 'features', labelCol = 'binaryDeptDelay', maxDepth = 3)"
   ]
  },
  {
   "cell_type": "markdown",
   "metadata": {},
   "source": [
    "**b. Gradient Boosted Tree**                                               \n",
    "As we did before, to build the Gradient Boosted Tree we are going to use `binaryArrDelay` and `binaryDeptDelay` as labels. That is why we will create two different estimators with `maxDepth = 3`"
   ]
  },
  {
   "cell_type": "code",
   "execution_count": 24,
   "metadata": {},
   "outputs": [],
   "source": [
    "from pyspark.ml.classification import GBTClassifier\n",
    "\n",
    "# Build Gradient Boosted Tree Classifier with the corresponding label and maxIter = 10\n",
    "gbt_ArrDelay = GBTClassifier(featuresCol = 'features', labelCol = 'binaryArrDelay', maxIter = 3)\n",
    "gbt_DeptDelay = GBTClassifier(featuresCol = 'features', labelCol = 'binaryDeptDelay', maxIter = 3)"
   ]
  },
  {
   "cell_type": "markdown",
   "metadata": {},
   "source": [
    "**c. Naive Bayes**                                               \n",
    "In this case, to build the Naive Bayes estimator we are going to use `multiClassArrDelayAuto` and `multiClassDeptDelayAuto` as labels, that are the labels that we created automaticlly in the task 1.3.3. That is why we will create two different estimators with `smoothing = 1` and `modelType=multinomial`"
   ]
  },
  {
   "cell_type": "code",
   "execution_count": 25,
   "metadata": {},
   "outputs": [],
   "source": [
    "from pyspark.ml.classification import NaiveBayes\n",
    "\n",
    "# Build Naive Bayes Classifier with the corresponding label and maxIter = 10\n",
    "nb_ArrDelay = NaiveBayes(featuresCol = 'features', labelCol ='multiClassArrDelayAuto', modelType='multinomial')\n",
    "nb_DeptDelay = NaiveBayes(featuresCol = 'features', labelCol ='multiClassDeptDelayAuto', modelType='multinomial')"
   ]
  },
  {
   "cell_type": "markdown",
   "metadata": {},
   "source": [
    "### 2.3 Split dataset <a class=\"anchor\" id=\"2.3\"></a>\n",
    "[Back to top](#table)\n",
    "\n",
    "In this task we randomly split the data into 80% and 20% proportion as training and testing data. We are going to use a seed in order to replicate the result. This training and testing data will be used for model evaluation"
   ]
  },
  {
   "cell_type": "code",
   "execution_count": 26,
   "metadata": {},
   "outputs": [],
   "source": [
    "#Splitting the data into testing and training set 80% into training and 20% for testing\n",
    "train, test = flightsDf_transformed.randomSplit([0.8, 0.2], 23) # Using 123 as a seed to always get the same dataset "
   ]
  },
  {
   "cell_type": "markdown",
   "metadata": {},
   "source": [
    "### 2.4 Training and evaluating models <a class=\"anchor\" id=\"2.4\"></a>\n",
    "[Back to top](#table)"
   ]
  },
  {
   "cell_type": "markdown",
   "metadata": {},
   "source": [
    "#### 2.4.1 Binary Classification <a class=\"anchor\" id=\"2.4.1\"></a>\n",
    "First we perform the binary classification task, using Decision Tree and Gradient Boosted Tree models, for both arrival and departure delay classification. Which means 4 different models.\n",
    "\n",
    "**a. Decision Tree**                                          \n",
    "With the estimators created in the previous task, we proceed to train both models, one for `ARRIVAL_DELAY` and one for `DEPARTURE_DELAY`"
   ]
  },
  {
   "cell_type": "code",
   "execution_count": 27,
   "metadata": {},
   "outputs": [],
   "source": [
    "dt_ArrDelay_Model = dt_ArrDelay.fit(train)"
   ]
  },
  {
   "cell_type": "code",
   "execution_count": 28,
   "metadata": {},
   "outputs": [],
   "source": [
    "dt_DeptDelay_Model = dt_DeptDelay.fit(train)"
   ]
  },
  {
   "cell_type": "markdown",
   "metadata": {},
   "source": [
    "After the models are trained we will predict the values "
   ]
  },
  {
   "cell_type": "code",
   "execution_count": 29,
   "metadata": {},
   "outputs": [],
   "source": [
    "dt_ArrDelay_Predictions = dt_ArrDelay_Model.transform(test)"
   ]
  },
  {
   "cell_type": "code",
   "execution_count": 30,
   "metadata": {},
   "outputs": [],
   "source": [
    "dt_DeptDelay_Predictions = dt_DeptDelay_Model.transform(test)"
   ]
  },
  {
   "cell_type": "markdown",
   "metadata": {},
   "source": [
    "Now that we have the predictions, we can calculate the confusion matrix"
   ]
  },
  {
   "cell_type": "code",
   "execution_count": 31,
   "metadata": {},
   "outputs": [
    {
     "name": "stdout",
     "output_type": "stream",
     "text": [
      "+--------------+----------+-----+\n",
      "|binaryArrDelay|prediction|count|\n",
      "+--------------+----------+-----+\n",
      "|             1|       0.0|31343|\n",
      "|             0|       0.0|69345|\n",
      "|             1|       1.0|10459|\n",
      "|             0|       1.0| 3705|\n",
      "+--------------+----------+-----+\n",
      "\n"
     ]
    }
   ],
   "source": [
    "# show confusion matrix\n",
    "dt_ArrDelay_Predictions.groupBy('binaryArrDelay', 'prediction').count().show()"
   ]
  },
  {
   "cell_type": "code",
   "execution_count": 32,
   "metadata": {
    "scrolled": true
   },
   "outputs": [
    {
     "name": "stdout",
     "output_type": "stream",
     "text": [
      "+---------------+----------+-----+\n",
      "|binaryDeptDelay|prediction|count|\n",
      "+---------------+----------+-----+\n",
      "|              1|       0.0|31716|\n",
      "|              0|       0.0|64738|\n",
      "|              1|       1.0|10735|\n",
      "|              0|       1.0| 7663|\n",
      "+---------------+----------+-----+\n",
      "\n"
     ]
    }
   ],
   "source": [
    "# show confusion matrix\n",
    "dt_DeptDelay_Predictions.groupBy('binaryDeptDelay', 'prediction').count().show()"
   ]
  },
  {
   "cell_type": "markdown",
   "metadata": {},
   "source": [
    "Finally, we will canculate the metrics that will help us evaluate the performance of each model"
   ]
  },
  {
   "cell_type": "code",
   "execution_count": 33,
   "metadata": {},
   "outputs": [],
   "source": [
    "from pyspark.ml.evaluation import BinaryClassificationEvaluator # Library use to calculate AUC\n",
    "\n",
    "def compute_metrics(predictions, label):\n",
    "    new_label_name = str(label + \" as label\")\n",
    "    predictions = predictions.selectExpr(\"prediction as prediction\", new_label_name)\n",
    "    \n",
    "    # Calculate the elements of the confusion matrix\n",
    "    TN = predictions.filter('prediction = 0 AND label = 0').count()\n",
    "    TP = predictions.filter('prediction = 1 AND label = 1').count()\n",
    "    FN = predictions.filter('prediction = 0 AND label = 1').count()\n",
    "    FP = predictions.filter('prediction = 1 AND label = 0').count()\n",
    "\n",
    "    # calculate metrics by the confusion matrix\n",
    "    accuracy = (TP + TN)/(TP + TN + FN + FP)\n",
    "    precision = (TP)/(TP + FP)\n",
    "    recall = (TP)/(TP + FN)\n",
    "    auc = BinaryClassificationEvaluator(rawPredictionCol=\"prediction\").evaluate(predictions)\n",
    "    \n",
    "    return print(\"Accuracy: \", accuracy, \"\\nPrecision: \", precision, \"\\nRecall: \", recall, \"\\nAUC: \", auc)"
   ]
  },
  {
   "cell_type": "code",
   "execution_count": 34,
   "metadata": {
    "scrolled": false
   },
   "outputs": [
    {
     "name": "stdout",
     "output_type": "stream",
     "text": [
      "Accuracy:  0.6948420576045694 \n",
      "Precision:  0.7384213499011578 \n",
      "Recall:  0.25020333955313145 \n",
      "AUC:  0.5997423268607546\n"
     ]
    }
   ],
   "source": [
    "compute_metrics(dt_ArrDelay_Predictions, 'binaryArrDelay')"
   ]
  },
  {
   "cell_type": "code",
   "execution_count": 35,
   "metadata": {},
   "outputs": [
    {
     "name": "stdout",
     "output_type": "stream",
     "text": [
      "Accuracy:  0.6571326576811897 \n",
      "Precision:  0.5834873355799544 \n",
      "Recall:  0.2528797908176486 \n",
      "AUC:  0.5735193556372742\n"
     ]
    }
   ],
   "source": [
    "compute_metrics(dt_DeptDelay_Predictions, 'binaryDeptDelay')"
   ]
  },
  {
   "cell_type": "markdown",
   "metadata": {},
   "source": [
    "When looking at the metrics of the `Decision Tree Model` for each label we can observe that the performance is similar for both models, even though the performance of the `ARRIVAL` label is slightly better. In this case we can see that the biggest flaw of the models is the **Recall**, which means that it has some troubles with *false negatives*, it predicts some late flights as not late. This can be seen with recalls below 30%. \n",
    "\n",
    "As mentioned before, when comparing the `ARRIVAL`, and the `DEPARTURE` models we can see that for the model with the parameters and features selected, can predict easier is a flight is going to `DEPART` late, rather than knowing if the flight is going to `ARRIVE` late, there are some unseen things while the airplane is flying that the models can not percept."
   ]
  },
  {
   "cell_type": "markdown",
   "metadata": {},
   "source": [
    "**b. Gradient Boost Tree**                                          \n",
    "As we did with `Decision Tree Model`, we do the same with the `Gradient Boost Tree` with the estimators created in the previous task, we proceed to train both models, one for `ARRIVAL_DELAY` and one for `DEPARTURE_DELAY`"
   ]
  },
  {
   "cell_type": "code",
   "execution_count": 36,
   "metadata": {
    "scrolled": true
   },
   "outputs": [],
   "source": [
    "gbt_ArrDelay_Model = gbt_ArrDelay.fit(train)"
   ]
  },
  {
   "cell_type": "code",
   "execution_count": 37,
   "metadata": {},
   "outputs": [],
   "source": [
    "gbt_DeptDelay_Model = gbt_DeptDelay.fit(train)"
   ]
  },
  {
   "cell_type": "markdown",
   "metadata": {},
   "source": [
    "After the models are trained we will predict the values "
   ]
  },
  {
   "cell_type": "code",
   "execution_count": 38,
   "metadata": {},
   "outputs": [],
   "source": [
    "gbt_ArrDelay_Predictions = gbt_ArrDelay_Model.transform(test)"
   ]
  },
  {
   "cell_type": "code",
   "execution_count": 39,
   "metadata": {},
   "outputs": [],
   "source": [
    "gbt_DeptDelay_Predictions = gbt_DeptDelay_Model.transform(test)"
   ]
  },
  {
   "cell_type": "markdown",
   "metadata": {},
   "source": [
    "Now that we have the predictions, we can calculate the confusion matrix"
   ]
  },
  {
   "cell_type": "code",
   "execution_count": 40,
   "metadata": {},
   "outputs": [
    {
     "name": "stdout",
     "output_type": "stream",
     "text": [
      "+--------------+----------+-----+\n",
      "|binaryArrDelay|prediction|count|\n",
      "+--------------+----------+-----+\n",
      "|             1|       0.0|28356|\n",
      "|             0|       0.0|68451|\n",
      "|             1|       1.0|13446|\n",
      "|             0|       1.0| 4599|\n",
      "+--------------+----------+-----+\n",
      "\n"
     ]
    }
   ],
   "source": [
    "# show confusion matrix\n",
    "gbt_ArrDelay_Predictions.groupBy('binaryArrDelay', 'prediction').count().show()"
   ]
  },
  {
   "cell_type": "code",
   "execution_count": 41,
   "metadata": {},
   "outputs": [
    {
     "name": "stdout",
     "output_type": "stream",
     "text": [
      "+---------------+----------+-----+\n",
      "|binaryDeptDelay|prediction|count|\n",
      "+---------------+----------+-----+\n",
      "|              1|       0.0|27572|\n",
      "|              0|       0.0|64631|\n",
      "|              1|       1.0|14879|\n",
      "|              0|       1.0| 7770|\n",
      "+---------------+----------+-----+\n",
      "\n"
     ]
    }
   ],
   "source": [
    "# show confusion matrix\n",
    "gbt_DeptDelay_Predictions.groupBy('binaryDeptDelay', 'prediction').count().show()"
   ]
  },
  {
   "cell_type": "markdown",
   "metadata": {},
   "source": [
    "Finally, we will canculate the metrics that will help us evaluate the performance of each model"
   ]
  },
  {
   "cell_type": "code",
   "execution_count": 42,
   "metadata": {},
   "outputs": [
    {
     "name": "stdout",
     "output_type": "stream",
     "text": [
      "Accuracy:  0.7130655103959879 \n",
      "Precision:  0.7451371571072319 \n",
      "Recall:  0.32165925075355245 \n",
      "AUC:  0.6293511859517249\n"
     ]
    }
   ],
   "source": [
    "compute_metrics(gbt_ArrDelay_Predictions, 'binaryArrDelay')"
   ]
  },
  {
   "cell_type": "code",
   "execution_count": 43,
   "metadata": {
    "scrolled": true
   },
   "outputs": [
    {
     "name": "stdout",
     "output_type": "stream",
     "text": [
      "Accuracy:  0.6922822414934002 \n",
      "Precision:  0.6569384961808469 \n",
      "Recall:  0.35049822147888154 \n",
      "AUC:  0.6215896308980021\n"
     ]
    }
   ],
   "source": [
    "compute_metrics(gbt_DeptDelay_Predictions, 'binaryDeptDelay')"
   ]
  },
  {
   "cell_type": "markdown",
   "metadata": {},
   "source": [
    "### Discussion"
   ]
  },
  {
   "cell_type": "markdown",
   "metadata": {},
   "source": [
    "When looking at the metrics of the `Gradient Boosting Tree Model` for each label we can observe that the performance is similar for both models, as we identified for the last model, the performance of the `ARRIVAL` label is slightly better and the biggest flaw of the models is the **Recall**, which means that it has some troubles with *false negatives*, it predicts some late flights as not late. This can be seen with recalls below 40%. \n",
    "\n",
    "When comparing the `Decision Tree Model` and the `Gradient Boosting Model` we can observe that the performance of the second is way better than the first one, all the metrics of the `Gradient Boosting Model` are better than the metrics of the `Decision Tree Model`, it means that one captures better the behaviour of the DELAYS than the other one."
   ]
  },
  {
   "cell_type": "markdown",
   "metadata": {},
   "source": [
    "**Model Selection for Binary Class**"
   ]
  },
  {
   "cell_type": "markdown",
   "metadata": {},
   "source": [
    "If we had to select one model to predict whether a flight is going to be delay or not, I would choose the `Gradient Boosting Tree Model`, using this one I can guarantee more accurate results, and I would have less false negatives, which are the most undesirable prediction. In terms of metrics, the one that will help use understand better the performance of the model is the `Area Under the Curve ROC` because it will help us undertand the degree of separability between the labels, and how well the model can capture it. The other metrics like, accuracy, recall and precision are also good to measure the performance of the model, even though in this case, as the data seems a little bit unbalanced as we could see in the [graphs above](#1.3.1), some of the metrics could be biased, like in this case `Precision` and `Recall`. \n",
    "\n",
    "That is why in this case, we will stick to the AUC ROC metric, that will help us distingush the separability between labels."
   ]
  },
  {
   "cell_type": "markdown",
   "metadata": {},
   "source": [
    "**Improvement of the Model**"
   ]
  },
  {
   "cell_type": "markdown",
   "metadata": {},
   "source": [
    "If we wanted to improve the performance of each model, we would have many options that we could use, those options are listed below:\n",
    "1. **Stepwise feature selection:** Using `Backward stepwise` or `Forward stepwise feature selection`, we could easily understand which are the most important features for the prediction of the label. In this particular case, we did not do that and just got rid of features that had a high correlation between them, in order to avoid multicollinearity issues. Using this method we did not test which were the most important features, so we could have gotten rid of the most important features for predicting the label, without knowing it. If we really wanted to select the best features for the models, we would need to use `Stepwise selection`, this way we could understand which are the attributes that have a greater impact on the performance of the model, and this way just got rid of the unimportant ones.\n",
    "2. **Cross-Validation:** Using the `Cross-Validation method`, we could calculate better the performance of the model and its consistency. In this particular case, we just split the data once, therefore, we could not understand how consistent is the prediction, and how accurate are the metrics. Because we can only have one result rather than many of them. Using `Cross-Validation` as the split method we could understand better the output of the model.\n",
    "3. **Hyperparameter tunning:** Using `Hyperparameter tunning` we could have tested many different parameters in the model. In this case, we only analyzed one hyperparameter for each model: **MaxDepth** for Decision Tree and **MaxIter** for Gradient Boosting Tree, and we don't really know if these hyperparameters are the ones that retrieve the best outcome possible, that is why are we compared the performance of each model, with different hyperparameters we would be able to understand which is the best hyperparameter and then used it in the final model.\n",
    "\n",
    "If we had used all these methods together, we would be sure that we are selecting the best model possible, but taking into consideration that we are using more than 500.000 rows, using these methods of hypertunning would be really expensive to achieve, and we do not have the resources to achieve it. That is why even though we are aware that this is not the most accurate approach, we know that it is a really good one."
   ]
  },
  {
   "cell_type": "markdown",
   "metadata": {},
   "source": [
    "#### 2.4.2 Multiclass Classification <a class=\"anchor\" id=\"2.4.2\"></a>"
   ]
  },
  {
   "cell_type": "markdown",
   "metadata": {},
   "source": [
    "**a. Naive Bayes**                                        \n",
    "Finally, as we did with in binary classification models, we proceed to do the same with the `Naive Bayes Model` with the estimators created in the previous task, we proceed to train both models, one for `ARRIVAL_DELAY` and one for `DEPARTURE_DELAY`"
   ]
  },
  {
   "cell_type": "code",
   "execution_count": 44,
   "metadata": {
    "scrolled": false
   },
   "outputs": [],
   "source": [
    "nb_ArrDelay_Model = nb_ArrDelay.fit(train)"
   ]
  },
  {
   "cell_type": "code",
   "execution_count": 45,
   "metadata": {},
   "outputs": [],
   "source": [
    "nb_DeptDelay_Model = nb_DeptDelay.fit(train)"
   ]
  },
  {
   "cell_type": "markdown",
   "metadata": {},
   "source": [
    "After the models are trained we will predict the values "
   ]
  },
  {
   "cell_type": "code",
   "execution_count": 46,
   "metadata": {},
   "outputs": [],
   "source": [
    "nb_ArrDelay_Predictions = nb_ArrDelay_Model.transform(test)"
   ]
  },
  {
   "cell_type": "code",
   "execution_count": 47,
   "metadata": {},
   "outputs": [],
   "source": [
    "nb_DeptDelay_Predictions = nb_DeptDelay_Model.transform(test)"
   ]
  },
  {
   "cell_type": "markdown",
   "metadata": {},
   "source": [
    "Now that we have the predictions, we can calculate the confusion matrix"
   ]
  },
  {
   "cell_type": "code",
   "execution_count": 48,
   "metadata": {},
   "outputs": [
    {
     "name": "stdout",
     "output_type": "stream",
     "text": [
      "+----------------------+----------+-----+\n",
      "|multiClassArrDelayAuto|prediction|count|\n",
      "+----------------------+----------+-----+\n",
      "|                     2|       1.0|10979|\n",
      "|                     1|       0.0|10223|\n",
      "|                     0|       2.0|11132|\n",
      "|                     0|       0.0|24899|\n",
      "|                     1|       2.0| 6354|\n",
      "|                     2|       2.0| 9781|\n",
      "|                     1|       1.0|10951|\n",
      "|                     2|       0.0|11217|\n",
      "|                     0|       1.0|19316|\n",
      "+----------------------+----------+-----+\n",
      "\n"
     ]
    }
   ],
   "source": [
    "# show confusion matrix\n",
    "nb_ArrDelay_Predictions.groupBy('multiClassArrDelayAuto', 'prediction').count().show()"
   ]
  },
  {
   "cell_type": "code",
   "execution_count": 49,
   "metadata": {
    "scrolled": true
   },
   "outputs": [
    {
     "name": "stdout",
     "output_type": "stream",
     "text": [
      "+-----------------------+----------+-----+\n",
      "|multiClassDeptDelayAuto|prediction|count|\n",
      "+-----------------------+----------+-----+\n",
      "|                      2|       1.0|11275|\n",
      "|                      1|       0.0|19898|\n",
      "|                      0|       2.0| 4042|\n",
      "|                      0|       0.0| 9944|\n",
      "|                      1|       2.0|14411|\n",
      "|                      2|       2.0|11376|\n",
      "|                      1|       1.0|26805|\n",
      "|                      2|       0.0| 8483|\n",
      "|                      0|       1.0| 8618|\n",
      "+-----------------------+----------+-----+\n",
      "\n"
     ]
    }
   ],
   "source": [
    "# show confusion matrix\n",
    "nb_DeptDelay_Predictions.groupBy('multiClassDeptDelayAuto', 'prediction').count().show()"
   ]
  },
  {
   "cell_type": "markdown",
   "metadata": {},
   "source": [
    "**Departure Delay Multiclass**"
   ]
  },
  {
   "cell_type": "code",
   "execution_count": 50,
   "metadata": {
    "scrolled": true
   },
   "outputs": [
    {
     "name": "stdout",
     "output_type": "stream",
     "text": [
      "Classification Report\n",
      "\n",
      "              precision    recall  f1-score   support\n",
      "\n",
      "           0       0.26      0.44      0.33     22604\n",
      "           1       0.57      0.44      0.50     61114\n",
      "           2       0.38      0.37      0.37     31134\n",
      "\n",
      "    accuracy                           0.42    114852\n",
      "   macro avg       0.40      0.41      0.40    114852\n",
      "weighted avg       0.46      0.42      0.43    114852\n",
      "\n",
      "AUC: 0.5825118259495178\n"
     ]
    }
   ],
   "source": [
    "#importing confusion matrix\n",
    "from sklearn.metrics import confusion_matrix, classification_report\n",
    "\n",
    "predictions = nb_DeptDelay_Predictions.selectExpr(\"prediction as prediction\", \"multiClassDeptDelayAuto as label\")\n",
    "\n",
    "y_pred = predictions.select(\"prediction\").rdd.flatMap(lambda x: x).collect()\n",
    "y_test = predictions.select(\"label\").rdd.flatMap(lambda x: x).collect()\n",
    "\n",
    "print('Classification Report\\n')\n",
    "print(classification_report(y_test, y_pred, target_names=['0', '1', '2']))\n",
    "print(\"AUC:\", BinaryClassificationEvaluator(rawPredictionCol=\"prediction\").evaluate(predictions))"
   ]
  },
  {
   "cell_type": "markdown",
   "metadata": {},
   "source": [
    "**Arrival Delay Multiclass**"
   ]
  },
  {
   "cell_type": "code",
   "execution_count": 51,
   "metadata": {},
   "outputs": [
    {
     "name": "stdout",
     "output_type": "stream",
     "text": [
      "Classification Report\n",
      "\n",
      "              precision    recall  f1-score   support\n",
      "\n",
      "           0       0.54      0.45      0.49     55347\n",
      "           1       0.27      0.40      0.32     27528\n",
      "           2       0.36      0.31      0.33     31977\n",
      "\n",
      "    accuracy                           0.40    114852\n",
      "   macro avg       0.39      0.38      0.38    114852\n",
      "weighted avg       0.42      0.40      0.40    114852\n",
      "\n",
      "AUC: 0.5550360808698187\n"
     ]
    }
   ],
   "source": [
    "predictions = nb_ArrDelay_Predictions.selectExpr(\"prediction as prediction\", \"multiClassArrDelayAuto as label\")\n",
    "\n",
    "y_pred = predictions.select(\"prediction\").rdd.flatMap(lambda x: x).collect()\n",
    "y_test = predictions.select(\"label\").rdd.flatMap(lambda x: x).collect()\n",
    "\n",
    "print('Classification Report\\n')\n",
    "print(classification_report(y_test, y_pred, target_names=['0', '1', '2']))\n",
    "print(\"AUC:\", BinaryClassificationEvaluator(rawPredictionCol=\"prediction\").evaluate(predictions))"
   ]
  },
  {
   "cell_type": "markdown",
   "metadata": {},
   "source": [
    "### Discussion\n",
    "**Metrics**                                             \n",
    "In this case we belive that the AUC is not the best metric to calculate the performance of the `Naive-Bayes Model` because it is using the `BinaryClassificationEvaluator` while we are using three different classes. It could lead us to a misunderstanding of the model perfomance. In this case we are going to calculate the performace of the models just by using the `Accuracy`, `Precision` and `Recall`. From the metrics we can see that the performance of it is not that good, as the accuracy is just ~40%, and there is not metric above 50%, which clearly means that we are not even able to predict it slightly better than by chance. It is claer that we must improve everything is this models if really wanted to use it.\n",
    "\n",
    "**Improvement of the Model**                                                                     \n",
    "If we wanted to improve the performance of the multiclass model, we would have many options that we could use, those options are listed below:\n",
    "1. **Stepwise feature selection:** Using `Backward stepwise` or `Forward stepwise feature selection`, we could easily understand which are the most important features for the prediction of the label. In this particular case, we did not do that and just got rid of features that had a high correlation between them, in order to avoid multicollinearity issues. Using this method we did not test which were the most important features, so we could have gotten rid of the most important features for predicting the label, without knowing it. If we really wanted to select the best features for the models, we would need to use `Stepwise selection`, this way we could understand which are the attributes that have a greater impact on the performance of the model, and this way just got rid of the unimportant ones.\n",
    "2. **Cross-Validation:** Using the `Cross-Validation method`, we could calculate better the performance of the model and its consistency. In this particular case, we just split the data once, therefore, we could not understand how consistent is the prediction, and how accurate are the metrics. Because we can only have one result rather than many of them. Using `Cross-Validation` as the split method we could understand better the output of the model.\n",
    "3. **Hyperparameter tunning:** Using `Hyperparameter tunning` we could have tested many different parameters in the model. In this case, we only analyzed one hyperparameter for each model: **MaxDepth** for Decision Tree and **MaxIter** for Gradient Boosting Tree, and we don't really know if these hyperparameters are the ones that retrieve the best outcome possible, that is why are we compared the performance of each model, with different hyperparameters we would be able to understand which is the best hyperparameter and then used it in the final model.\n",
    "4. **Label creation:** For this particular model, we manually created the labels, in this case we defined that less than -5 minutes means early and more than +5 minutes mean late, the only argument to define that is that each category had roughly the same amount of flights, this is not a good practice, because in real life most of the flight must arrive of depart on time, so we must expect the labels to be heavily unbalanced. It would be correct if we had use many different distribution of labels, or even had read some documentation from the source of the data, of how to classify correctly the data. For sure the results are heavily influenced for the creation of this labels\n",
    "\n",
    "If we had used all these methods together, we would be sure that we are selecting the best model possible, but taking into consideration that we are using more than 500.000 rows, using these methods of hypertunning would be really expensive to achieve, and we do not have the resources to achieve it. That is why even though we are aware that this is not the most accurate approach, we know that it is a really good one.\n"
   ]
  },
  {
   "cell_type": "markdown",
   "metadata": {},
   "source": [
    "# References\n",
    "https://spark.apache.org/docs/latest/api/python/reference/api/pyspark.sql.DataFrame.corr.html                                   \n",
    "https://stackoverflow.com/questions/55546467/how-to-plot-correlation-heatmap-when-using-pysparkdatabricks                    \n",
    "https://stackoverflow.com/questions/29432629/plot-correlation-matrix-using-pandas                                          \n",
    "https://stackoverflow.com/questions/40888946/spark-dataframe-count-distinct-values-of-every-column         \n",
    "https://towardsdatascience.com/confusion-matrix-for-your-multi-class-machine-learning-model-ff9aa3bf7826                    \n",
    "https://www.baeldung.com/cs/naive-bayes-classification-performance"
   ]
  }
 ],
 "metadata": {
  "kernelspec": {
   "display_name": "Python 3",
   "language": "python",
   "name": "python3"
  },
  "language_info": {
   "codemirror_mode": {
    "name": "ipython",
    "version": 3
   },
   "file_extension": ".py",
   "mimetype": "text/x-python",
   "name": "python",
   "nbconvert_exporter": "python",
   "pygments_lexer": "ipython3",
   "version": "3.8.3"
  }
 },
 "nbformat": 4,
 "nbformat_minor": 4
}
